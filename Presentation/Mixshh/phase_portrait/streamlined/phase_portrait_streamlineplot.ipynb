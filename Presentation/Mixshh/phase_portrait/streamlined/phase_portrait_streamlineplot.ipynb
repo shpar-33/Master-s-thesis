{
 "cells": [
  {
   "cell_type": "code",
   "execution_count": 7,
   "metadata": {
    "vscode": {
     "languageId": "python"
    }
   },
   "outputs": [],
   "source": [
    "# fifthcase is for reducing plane with p0,p1,p2\n",
    "\n",
    "def fifthCase(a,b,g,fname):\n",
    "    #t = var('t')\n",
    "    P0 = var('P0')\n",
    "    P1 = var('P1') \n",
    "    #p2 = var('p2') \n",
    "\n",
    "    f0 = -a*(P1+2*(1-P0-P1))*P0 + g * P1\n",
    "    f1 = a*(P1+2*(1-P0-P1))*P0 - ((a/2)*(P1+2*(1-P0-P1))+b+g)*P1 + 2 * g * (1-P0-P1)\n",
    "    #f2 = ((a/2)*(p1+2*(1-p0-p1))+b)*p1 - 2 * g * (1-p0-p1)\n",
    "    DE=[f0,f1]\n",
    "\n",
    "    V = streamline_plot(DE, (P0, -0.1, 1), (P1, -0.1, 1))\n",
    "    filename = \"test\"+fname+'.eps'\n",
    "    \n",
    "    V.axes_labels(['Probability of household state P0', 'Probability of household state P1'])\n",
    "    \n",
    "    #V.show(title=f'{fname}', frame=True)\n",
    "    V.save(filename)\n",
    "    \n",
    "a_list = [0.1,0.2,0.3,0.4,0.5,0.6,0.7,0.8,0.9,0.0]\n",
    "b_list = [0.1,0.2,0.3,0.4,0.5,0.6,0.7,0.8,0.9,0.0]\n",
    "g_list = [0.1,0.2,0.3,0.4,0.5,0.6,0.7,0.8,0.9,0.0]\n",
    "\n",
    "for i in a_list:\n",
    "    fifthCase(i,0.2,0.2,'alpha_'+str(i))\n",
    "\n",
    "for i in b_list:\n",
    "    fifthCase(0.4,i,0.2,'beta_'+str(i))\n",
    "\n",
    "for i in g_list:\n",
    "    fifthCase(0.4,0.2,i,'gamma_'+str(i))"
   ]
  },
  {
   "cell_type": "code",
   "execution_count": 2,
   "metadata": {
    "vscode": {
     "languageId": "python"
    }
   },
   "outputs": [
    {
     "ename": "TypeError",
     "evalue": "'tuple' object is not callable",
     "output_type": "error",
     "traceback": [
      "\u001b[0;31m---------------------------------------------------------------------------\u001b[0m",
      "\u001b[0;31mTypeError\u001b[0m                                 Traceback (most recent call last)",
      "\u001b[0;32m/tmp/ipykernel_15718/3316144631.py\u001b[0m in \u001b[0;36m<module>\u001b[0;34m\u001b[0m\n\u001b[1;32m     17\u001b[0m \u001b[0;34m\u001b[0m\u001b[0m\n\u001b[1;32m     18\u001b[0m \u001b[0;32mfor\u001b[0m \u001b[0mi\u001b[0m \u001b[0;32min\u001b[0m \u001b[0ma_list\u001b[0m\u001b[0;34m:\u001b[0m\u001b[0;34m\u001b[0m\u001b[0;34m\u001b[0m\u001b[0m\n\u001b[0;32m---> 19\u001b[0;31m     \u001b[0mphaseCase\u001b[0m\u001b[0;34m(\u001b[0m\u001b[0mi\u001b[0m\u001b[0;34m,\u001b[0m\u001b[0mRealNumber\u001b[0m\u001b[0;34m(\u001b[0m\u001b[0;34m'0.2'\u001b[0m\u001b[0;34m)\u001b[0m\u001b[0;34m,\u001b[0m\u001b[0mRealNumber\u001b[0m\u001b[0;34m(\u001b[0m\u001b[0;34m'0.2'\u001b[0m\u001b[0;34m)\u001b[0m\u001b[0;34m,\u001b[0m\u001b[0;34m'alpha_'\u001b[0m\u001b[0;34m+\u001b[0m\u001b[0mstr\u001b[0m\u001b[0;34m(\u001b[0m\u001b[0mi\u001b[0m\u001b[0;34m)\u001b[0m\u001b[0;34m)\u001b[0m\u001b[0;34m\u001b[0m\u001b[0;34m\u001b[0m\u001b[0m\n\u001b[0m",
      "\u001b[0;32m/tmp/ipykernel_15718/3316144631.py\u001b[0m in \u001b[0;36mphaseCase\u001b[0;34m(a, b, g, fname)\u001b[0m\n\u001b[1;32m      6\u001b[0m     \u001b[0mf1\u001b[0m \u001b[0;34m=\u001b[0m \u001b[0ma\u001b[0m\u001b[0;34m*\u001b[0m\u001b[0;34m(\u001b[0m\u001b[0mp1\u001b[0m\u001b[0;34m+\u001b[0m\u001b[0mInteger\u001b[0m\u001b[0;34m(\u001b[0m\u001b[0;36m2\u001b[0m\u001b[0;34m)\u001b[0m\u001b[0;34m*\u001b[0m\u001b[0;34m(\u001b[0m\u001b[0mInteger\u001b[0m\u001b[0;34m(\u001b[0m\u001b[0;36m1\u001b[0m\u001b[0;34m)\u001b[0m\u001b[0;34m-\u001b[0m\u001b[0mp0\u001b[0m\u001b[0;34m-\u001b[0m\u001b[0mp1\u001b[0m\u001b[0;34m)\u001b[0m\u001b[0;34m)\u001b[0m\u001b[0;34m*\u001b[0m\u001b[0mp0\u001b[0m \u001b[0;34m-\u001b[0m \u001b[0;34m(\u001b[0m\u001b[0;34m(\u001b[0m\u001b[0ma\u001b[0m\u001b[0;34m/\u001b[0m\u001b[0mInteger\u001b[0m\u001b[0;34m(\u001b[0m\u001b[0;36m2\u001b[0m\u001b[0;34m)\u001b[0m\u001b[0;34m)\u001b[0m\u001b[0;34m*\u001b[0m\u001b[0;34m(\u001b[0m\u001b[0mp1\u001b[0m\u001b[0;34m+\u001b[0m\u001b[0mInteger\u001b[0m\u001b[0;34m(\u001b[0m\u001b[0;36m2\u001b[0m\u001b[0;34m)\u001b[0m\u001b[0;34m*\u001b[0m\u001b[0;34m(\u001b[0m\u001b[0mInteger\u001b[0m\u001b[0;34m(\u001b[0m\u001b[0;36m1\u001b[0m\u001b[0;34m)\u001b[0m\u001b[0;34m-\u001b[0m\u001b[0mp0\u001b[0m\u001b[0;34m-\u001b[0m\u001b[0mp1\u001b[0m\u001b[0;34m)\u001b[0m\u001b[0;34m)\u001b[0m\u001b[0;34m+\u001b[0m\u001b[0mb\u001b[0m\u001b[0;34m+\u001b[0m\u001b[0mg\u001b[0m\u001b[0;34m)\u001b[0m\u001b[0;34m*\u001b[0m\u001b[0mp1\u001b[0m \u001b[0;34m+\u001b[0m \u001b[0mInteger\u001b[0m\u001b[0;34m(\u001b[0m\u001b[0;36m2\u001b[0m\u001b[0;34m)\u001b[0m \u001b[0;34m*\u001b[0m \u001b[0mg\u001b[0m \u001b[0;34m*\u001b[0m \u001b[0;34m(\u001b[0m\u001b[0mInteger\u001b[0m\u001b[0;34m(\u001b[0m\u001b[0;36m1\u001b[0m\u001b[0;34m)\u001b[0m\u001b[0;34m-\u001b[0m\u001b[0mp0\u001b[0m\u001b[0;34m-\u001b[0m\u001b[0mp1\u001b[0m\u001b[0;34m)\u001b[0m\u001b[0;34m\u001b[0m\u001b[0;34m\u001b[0m\u001b[0m\n\u001b[1;32m      7\u001b[0m     \u001b[0mDE\u001b[0m\u001b[0;34m=\u001b[0m\u001b[0;34m[\u001b[0m\u001b[0mf0\u001b[0m\u001b[0;34m,\u001b[0m\u001b[0mf1\u001b[0m\u001b[0;34m]\u001b[0m\u001b[0;34m\u001b[0m\u001b[0;34m\u001b[0m\u001b[0m\n\u001b[0;32m----> 8\u001b[0;31m     \u001b[0mV\u001b[0m \u001b[0;34m=\u001b[0m \u001b[0mcontour_plot\u001b[0m\u001b[0;34m(\u001b[0m\u001b[0mDE\u001b[0m\u001b[0;34m,\u001b[0m \u001b[0;34m(\u001b[0m\u001b[0mp0\u001b[0m\u001b[0;34m,\u001b[0m \u001b[0;34m-\u001b[0m\u001b[0mRealNumber\u001b[0m\u001b[0;34m(\u001b[0m\u001b[0;34m'0.2'\u001b[0m\u001b[0;34m)\u001b[0m\u001b[0;34m,\u001b[0m \u001b[0mRealNumber\u001b[0m\u001b[0;34m(\u001b[0m\u001b[0;34m'1.2'\u001b[0m\u001b[0;34m)\u001b[0m\u001b[0;34m)\u001b[0m\u001b[0;34m,\u001b[0m \u001b[0;34m(\u001b[0m\u001b[0mp1\u001b[0m\u001b[0;34m,\u001b[0m \u001b[0;34m-\u001b[0m\u001b[0mRealNumber\u001b[0m\u001b[0;34m(\u001b[0m\u001b[0;34m'0.2'\u001b[0m\u001b[0;34m)\u001b[0m\u001b[0;34m,\u001b[0m \u001b[0mRealNumber\u001b[0m\u001b[0;34m(\u001b[0m\u001b[0;34m'1.2'\u001b[0m\u001b[0;34m)\u001b[0m\u001b[0;34m)\u001b[0m\u001b[0;34m,\u001b[0m\u001b[0mtitle\u001b[0m\u001b[0;34m=\u001b[0m\u001b[0;34mf'{fname}'\u001b[0m\u001b[0;34m)\u001b[0m\u001b[0;34m\u001b[0m\u001b[0;34m\u001b[0m\u001b[0m\n\u001b[0m\u001b[1;32m      9\u001b[0m     \u001b[0mfilename\u001b[0m \u001b[0;34m=\u001b[0m \u001b[0;34m\"test\"\u001b[0m\u001b[0;34m+\u001b[0m\u001b[0mfname\u001b[0m\u001b[0;34m+\u001b[0m\u001b[0;34m'.png'\u001b[0m\u001b[0;34m\u001b[0m\u001b[0;34m\u001b[0m\u001b[0m\n\u001b[1;32m     10\u001b[0m \u001b[0;34m\u001b[0m\u001b[0m\n",
      "\u001b[0;32m/usr/lib/python3/dist-packages/sage/misc/decorators.py\u001b[0m in \u001b[0;36mwrapper\u001b[0;34m(*args, **kwds)\u001b[0m\n\u001b[1;32m    409\u001b[0m             \u001b[0mkwds\u001b[0m\u001b[0;34m[\u001b[0m\u001b[0mself\u001b[0m\u001b[0;34m.\u001b[0m\u001b[0mname\u001b[0m \u001b[0;34m+\u001b[0m \u001b[0;34m\"options\"\u001b[0m\u001b[0;34m]\u001b[0m \u001b[0;34m=\u001b[0m \u001b[0msuboptions\u001b[0m\u001b[0;34m\u001b[0m\u001b[0;34m\u001b[0m\u001b[0m\n\u001b[1;32m    410\u001b[0m \u001b[0;34m\u001b[0m\u001b[0m\n\u001b[0;32m--> 411\u001b[0;31m             \u001b[0;32mreturn\u001b[0m \u001b[0mfunc\u001b[0m\u001b[0;34m(\u001b[0m\u001b[0;34m*\u001b[0m\u001b[0margs\u001b[0m\u001b[0;34m,\u001b[0m \u001b[0;34m**\u001b[0m\u001b[0mkwds\u001b[0m\u001b[0;34m)\u001b[0m\u001b[0;34m\u001b[0m\u001b[0;34m\u001b[0m\u001b[0m\n\u001b[0m\u001b[1;32m    412\u001b[0m \u001b[0;34m\u001b[0m\u001b[0m\n\u001b[1;32m    413\u001b[0m         \u001b[0;31m# Add the options specified by @options to the signature of the wrapped\u001b[0m\u001b[0;34m\u001b[0m\u001b[0;34m\u001b[0m\u001b[0m\n",
      "\u001b[0;32m/usr/lib/python3/dist-packages/sage/misc/decorators.py\u001b[0m in \u001b[0;36mwrapper\u001b[0;34m(*args, **kwds)\u001b[0m\n\u001b[1;32m    409\u001b[0m             \u001b[0mkwds\u001b[0m\u001b[0;34m[\u001b[0m\u001b[0mself\u001b[0m\u001b[0;34m.\u001b[0m\u001b[0mname\u001b[0m \u001b[0;34m+\u001b[0m \u001b[0;34m\"options\"\u001b[0m\u001b[0;34m]\u001b[0m \u001b[0;34m=\u001b[0m \u001b[0msuboptions\u001b[0m\u001b[0;34m\u001b[0m\u001b[0;34m\u001b[0m\u001b[0m\n\u001b[1;32m    410\u001b[0m \u001b[0;34m\u001b[0m\u001b[0m\n\u001b[0;32m--> 411\u001b[0;31m             \u001b[0;32mreturn\u001b[0m \u001b[0mfunc\u001b[0m\u001b[0;34m(\u001b[0m\u001b[0;34m*\u001b[0m\u001b[0margs\u001b[0m\u001b[0;34m,\u001b[0m \u001b[0;34m**\u001b[0m\u001b[0mkwds\u001b[0m\u001b[0;34m)\u001b[0m\u001b[0;34m\u001b[0m\u001b[0;34m\u001b[0m\u001b[0m\n\u001b[0m\u001b[1;32m    412\u001b[0m \u001b[0;34m\u001b[0m\u001b[0m\n\u001b[1;32m    413\u001b[0m         \u001b[0;31m# Add the options specified by @options to the signature of the wrapped\u001b[0m\u001b[0;34m\u001b[0m\u001b[0;34m\u001b[0m\u001b[0m\n",
      "\u001b[0;32m/usr/lib/python3/dist-packages/sage/misc/decorators.py\u001b[0m in \u001b[0;36mwrapper\u001b[0;34m(*args, **kwds)\u001b[0m\n\u001b[1;32m    490\u001b[0m                 \u001b[0moptions\u001b[0m\u001b[0;34m[\u001b[0m\u001b[0;34m'__original_opts'\u001b[0m\u001b[0;34m]\u001b[0m \u001b[0;34m=\u001b[0m \u001b[0mkwds\u001b[0m\u001b[0;34m\u001b[0m\u001b[0;34m\u001b[0m\u001b[0m\n\u001b[1;32m    491\u001b[0m             \u001b[0moptions\u001b[0m\u001b[0;34m.\u001b[0m\u001b[0mupdate\u001b[0m\u001b[0;34m(\u001b[0m\u001b[0mkwds\u001b[0m\u001b[0;34m)\u001b[0m\u001b[0;34m\u001b[0m\u001b[0;34m\u001b[0m\u001b[0m\n\u001b[0;32m--> 492\u001b[0;31m             \u001b[0;32mreturn\u001b[0m \u001b[0mfunc\u001b[0m\u001b[0;34m(\u001b[0m\u001b[0;34m*\u001b[0m\u001b[0margs\u001b[0m\u001b[0;34m,\u001b[0m \u001b[0;34m**\u001b[0m\u001b[0moptions\u001b[0m\u001b[0;34m)\u001b[0m\u001b[0;34m\u001b[0m\u001b[0;34m\u001b[0m\u001b[0m\n\u001b[0m\u001b[1;32m    493\u001b[0m \u001b[0;34m\u001b[0m\u001b[0m\n\u001b[1;32m    494\u001b[0m         \u001b[0;31m#Add the options specified by @options to the signature of the wrapped\u001b[0m\u001b[0;34m\u001b[0m\u001b[0;34m\u001b[0m\u001b[0m\n",
      "\u001b[0;32m/usr/lib/python3/dist-packages/sage/plot/contour_plot.py\u001b[0m in \u001b[0;36mcontour_plot\u001b[0;34m(f, xrange, yrange, **options)\u001b[0m\n\u001b[1;32m    836\u001b[0m     \u001b[0mxrange\u001b[0m\u001b[0;34m,\u001b[0m \u001b[0myrange\u001b[0m \u001b[0;34m=\u001b[0m \u001b[0;34m[\u001b[0m\u001b[0mr\u001b[0m\u001b[0;34m[\u001b[0m\u001b[0;34m:\u001b[0m\u001b[0;36m2\u001b[0m\u001b[0;34m]\u001b[0m \u001b[0;32mfor\u001b[0m \u001b[0mr\u001b[0m \u001b[0;32min\u001b[0m \u001b[0mranges\u001b[0m\u001b[0;34m]\u001b[0m\u001b[0;34m\u001b[0m\u001b[0;34m\u001b[0m\u001b[0m\n\u001b[1;32m    837\u001b[0m \u001b[0;34m\u001b[0m\u001b[0m\n\u001b[0;32m--> 838\u001b[0;31m     xy_data_array = [[g(x, y) for x in xsrange(*ranges[0],\n\u001b[0m\u001b[1;32m    839\u001b[0m                                                include_endpoint=True)]\n\u001b[1;32m    840\u001b[0m                      for y in xsrange(*ranges[1], include_endpoint=True)]\n",
      "\u001b[0;32m/usr/lib/python3/dist-packages/sage/plot/contour_plot.py\u001b[0m in \u001b[0;36m<listcomp>\u001b[0;34m(.0)\u001b[0m\n\u001b[1;32m    836\u001b[0m     \u001b[0mxrange\u001b[0m\u001b[0;34m,\u001b[0m \u001b[0myrange\u001b[0m \u001b[0;34m=\u001b[0m \u001b[0;34m[\u001b[0m\u001b[0mr\u001b[0m\u001b[0;34m[\u001b[0m\u001b[0;34m:\u001b[0m\u001b[0;36m2\u001b[0m\u001b[0;34m]\u001b[0m \u001b[0;32mfor\u001b[0m \u001b[0mr\u001b[0m \u001b[0;32min\u001b[0m \u001b[0mranges\u001b[0m\u001b[0;34m]\u001b[0m\u001b[0;34m\u001b[0m\u001b[0;34m\u001b[0m\u001b[0m\n\u001b[1;32m    837\u001b[0m \u001b[0;34m\u001b[0m\u001b[0m\n\u001b[0;32m--> 838\u001b[0;31m     xy_data_array = [[g(x, y) for x in xsrange(*ranges[0],\n\u001b[0m\u001b[1;32m    839\u001b[0m                                                include_endpoint=True)]\n\u001b[1;32m    840\u001b[0m                      for y in xsrange(*ranges[1], include_endpoint=True)]\n",
      "\u001b[0;32m/usr/lib/python3/dist-packages/sage/plot/contour_plot.py\u001b[0m in \u001b[0;36m<listcomp>\u001b[0;34m(.0)\u001b[0m\n\u001b[1;32m    836\u001b[0m     \u001b[0mxrange\u001b[0m\u001b[0;34m,\u001b[0m \u001b[0myrange\u001b[0m \u001b[0;34m=\u001b[0m \u001b[0;34m[\u001b[0m\u001b[0mr\u001b[0m\u001b[0;34m[\u001b[0m\u001b[0;34m:\u001b[0m\u001b[0;36m2\u001b[0m\u001b[0;34m]\u001b[0m \u001b[0;32mfor\u001b[0m \u001b[0mr\u001b[0m \u001b[0;32min\u001b[0m \u001b[0mranges\u001b[0m\u001b[0;34m]\u001b[0m\u001b[0;34m\u001b[0m\u001b[0;34m\u001b[0m\u001b[0m\n\u001b[1;32m    837\u001b[0m \u001b[0;34m\u001b[0m\u001b[0m\n\u001b[0;32m--> 838\u001b[0;31m     xy_data_array = [[g(x, y) for x in xsrange(*ranges[0],\n\u001b[0m\u001b[1;32m    839\u001b[0m                                                include_endpoint=True)]\n\u001b[1;32m    840\u001b[0m                      for y in xsrange(*ranges[1], include_endpoint=True)]\n",
      "\u001b[0;31mTypeError\u001b[0m: 'tuple' object is not callable"
     ]
    }
   ],
   "source": [
    "def phaseCase(a,b,g,fname):\n",
    "    p0 = var('p0')\n",
    "    p1 = var('p1') \n",
    "\n",
    "    f0 = -a*(p1+2*(1-p0-p1))*p0 + g * p1\n",
    "    f1 = a*(p1+2*(1-p0-p1))*p0 - ((a/2)*(p1+2*(1-p0-p1))+b+g)*p1 + 2 * g * (1-p0-p1)\n",
    "    DE=[f0,f1]\n",
    "    V = contour_plot(DE, (p0, -0.2, 1.2), (p1, -0.2, 1.2),title=f'{fname}')\n",
    "    filename = \"test\"+fname+'.png'\n",
    "    \n",
    "    V.axes_labels([p0, p1])\n",
    "    \n",
    "    #V.show(title=f'{fname}', frame=True)\n",
    "    V.save('density/'+filename)\n",
    "\n",
    "a_list = [0.4]\n",
    "\n",
    "for i in a_list:\n",
    "    phaseCase(i,0.2,0.2,'alpha_'+str(i))"
   ]
  },
  {
   "cell_type": "code",
   "execution_count": 94,
   "metadata": {
    "vscode": {
     "languageId": "python"
    }
   },
   "outputs": [
    {
     "name": "stdout",
     "output_type": "stream",
     "text": [
      "[\n",
      "[p0 == sqrt(2) - 1, p1 == -4*sqrt(2) + 6],\n",
      "[p0 == -sqrt(2) - 1, p1 == 4*sqrt(2) + 6],\n",
      "[p0 == 1, p1 == 0]\n",
      "]\n"
     ]
    }
   ],
   "source": [
    "def phaseCase(a,b,g,fname):\n",
    "    p0 = var('p0')\n",
    "    p1 = var('p1') \n",
    "\n",
    "    f0 = -a*(p1+2*(1-p0-p1))*p0 + g * p1\n",
    "    f1 = a*(p1+2*(1-p0-p1))*p0 - ((a/2)*(p1+2*(1-p0-p1))+b+g)*p1 + 2 * g * (1-p0-p1)\n",
    "    DE=[f0,f1]\n",
    "    def p():\n",
    "        v = vector(DE)\n",
    "        return v/v.norm()\n",
    "    print(solve([f0==0, f1==0], p0,p1))\n",
    "    V = plot_vector_field(p(), (p0, -0.2, 1.2), (p1, -0.2, 1.2),title=f'{fname}')\n",
    "    filename = \"test\"+fname+'.png'\n",
    "    \n",
    "    V.axes_labels([p0, p1])\n",
    "    \n",
    "    #V.show(title=f'{fname}', frame=True)\n",
    "    V.save('selected/'+filename)\n",
    "\n",
    "a_list = [0.2]\n",
    "\n",
    "for i in a_list:\n",
    "    phaseCase(i,0.2,0.2,'alpha_'+str(i))"
   ]
  },
  {
   "cell_type": "code",
   "execution_count": 95,
   "metadata": {
    "vscode": {
     "languageId": "python"
    }
   },
   "outputs": [
    {
     "name": "stdout",
     "output_type": "stream",
     "text": [
      "[\n",
      "[p0 == 1/6*sqrt(41) - 5/6, p1 == -2/3*sqrt(41) + 14/3],\n",
      "[p0 == -1/6*sqrt(41) - 5/6, p1 == 2/3*sqrt(41) + 14/3],\n",
      "[p0 == 1, p1 == 0]\n",
      "]\n"
     ]
    }
   ],
   "source": [
    "def phaseCase(a,b,g,fname):\n",
    "    p0 = var('p0')\n",
    "    p1 = var('p1') \n",
    "\n",
    "    f0 = -a*(p1+2*(1-p0-p1))*p0 + g * p1\n",
    "    f1 = a*(p1+2*(1-p0-p1))*p0 - ((a/2)*(p1+2*(1-p0-p1))+b+g)*p1 + 2 * g * (1-p0-p1)\n",
    "    DE=[f0,f1]\n",
    "    def p():\n",
    "        v = vector(DE)\n",
    "        return v/v.norm()\n",
    "    print(solve([f0==0, f1==0], p0,p1))\n",
    "    V = plot_vector_field(p(), (p0, -0.2, 1.2), (p1, -0.2, 1.2),title=f'{fname}')\n",
    "    filename = \"test\"+fname+'.png'\n",
    "    \n",
    "    V.axes_labels([p0, p1])\n",
    "    \n",
    "    #V.show(title=f'{fname}', frame=True)\n",
    "    V.save('selected/'+filename)\n",
    "\n",
    "a_list = [0.3]\n",
    "\n",
    "for i in a_list:\n",
    "    phaseCase(i,0.2,0.2,'alpha_'+str(i))"
   ]
  },
  {
   "cell_type": "code",
   "execution_count": 25,
   "metadata": {
    "vscode": {
     "languageId": "python"
    }
   },
   "outputs": [
    {
     "name": "stdout",
     "output_type": "stream",
     "text": [
      "[\n",
      "[p0 == 1/4*sqrt(13) - 3/4, p1 == -sqrt(13) + 4],\n",
      "[p0 == -1/4*sqrt(13) - 3/4, p1 == sqrt(13) + 4],\n",
      "[p0 == 1, p1 == 0]\n",
      "]\n"
     ]
    }
   ],
   "source": [
    "# these range of P_0 and P_1 is found in exactly value of root of p0 \n",
    "def phaseCase(a,b,g,fname):\n",
    "    p0 = var('p0')\n",
    "    p1 = var('p1') \n",
    "\n",
    "    f0 = -a*(p1+2*(1-p0-p1))*p0 + g * p1\n",
    "    f1 = a*(p1+2*(1-p0-p1))*p0 - ((a/2)*(p1+2*(1-p0-p1))+b+g)*p1 + 2 * g * (1-p0-p1)\n",
    "    DE=[f0,f1]\n",
    "    def p():\n",
    "        v = vector(DE)\n",
    "        return v/v.norm()\n",
    "    print(solve([f0==0, f1==0], p0,p1))\n",
    "    V = plot_vector_field(p(), (p0, 0.15138761, 0.15138763), (p1, 0.394448, 0.394450),title=f'{fname}')\n",
    "    filename = \"test\"+fname+'.png'\n",
    "    \n",
    "    V.axes_labels([p0, p1])\n",
    "    \n",
    "    #V.show(title=f'{fname}', frame=True)\n",
    "    V.save('selected/'+filename)\n",
    "\n",
    "a_list = [0.4]\n",
    "\n",
    "for i in a_list:\n",
    "    phaseCase(i,0.2,0.2,'alpha_'+str(i))"
   ]
  },
  {
   "cell_type": "code",
   "execution_count": 43,
   "metadata": {
    "vscode": {
     "languageId": "python"
    }
   },
   "outputs": [
    {
     "name": "stdout",
     "output_type": "stream",
     "text": [
      "[\n",
      "[p0 == 1/10*sqrt(65) - 7/10, p1 == -2/5*sqrt(65) + 18/5],\n",
      "[p0 == -1/10*sqrt(65) - 7/10, p1 == 2/5*sqrt(65) + 18/5],\n",
      "[p0 == 1, p1 == 0]\n",
      "]\n"
     ]
    }
   ],
   "source": [
    "def phaseCase(a,b,g,fname):\n",
    "    p0 = var('p0')\n",
    "    p1 = var('p1') \n",
    "\n",
    "    f0 = -a*(p1+2*(1-p0-p1))*p0 + g * p1\n",
    "    f1 = a*(p1+2*(1-p0-p1))*p0 - ((a/2)*(p1+2*(1-p0-p1))+b+g)*p1 + 2 * g * (1-p0-p1)\n",
    "    DE=[f0,f1]\n",
    "    def p():\n",
    "        v = vector(DE)\n",
    "        return v/v.norm()\n",
    "    print(solve([f0==0, f1==0], p0,p1))\n",
    "    V = plot_vector_field(p(), (p0, 0.10622576, 0.10622579), (p1, 0.3750967 ,0.3750970),title=f'{fname}')\n",
    "    filename = \"test\"+fname+'.png'\n",
    "    \n",
    "    V.axes_labels([p0, p1])\n",
    "    \n",
    "    #V.show(title=f'{fname}', frame=True)\n",
    "    V.save('selected/'+filename)\n",
    "\n",
    "a_list = [0.5]\n",
    "\n",
    "for i in a_list:\n",
    "    phaseCase(i,0.2,0.2,'alpha_'+str(i))"
   ]
  },
  {
   "cell_type": "code",
   "execution_count": 4,
   "metadata": {
    "vscode": {
     "languageId": "python"
    }
   },
   "outputs": [],
   "source": [
    "def phaseCase(a,b,g,fname):\n",
    "    p0 = var('p0')\n",
    "    p1 = var('p1') \n",
    "\n",
    "    f0 = -a*(p1+2*(1-p0-p1))*p0 + g * p1\n",
    "    f1 = a*(p1+2*(1-p0-p1))*p0 - ((a/2)*(p1+2*(1-p0-p1))+b+g)*p1 + 2 * g * (1-p0-p1)\n",
    "    DE=[f0,f1]\n",
    "    V = streamline_plot(DE, (p0, -0.2, 1.2), (p1, -0.2 ,1.2),title=f'{fname}')\n",
    "    filename = \"test\"+fname+'.png'\n",
    "    \n",
    "    V.axes_labels([p0, p1])\n",
    "    \n",
    "    #V.show(title=f'{fname}', frame=True)\n",
    "    V.save('streamlined/'+filename)\n",
    "\n",
    "a_list = [0.6]\n",
    "\n",
    "for i in a_list:\n",
    "    phaseCase(i,0.2,0.2,'alpha_'+str(i))"
   ]
  },
  {
   "cell_type": "code",
   "execution_count": 52,
   "metadata": {
    "vscode": {
     "languageId": "python"
    }
   },
   "outputs": [
    {
     "name": "stdout",
     "output_type": "stream",
     "text": [
      "[\n",
      "[p0 == 1/14*sqrt(97) - 9/14, p1 == -2/7*sqrt(97) + 22/7],\n",
      "[p0 == -1/14*sqrt(97) - 9/14, p1 == 2/7*sqrt(97) + 22/7],\n",
      "[p0 == 1, p1 == 0]\n",
      "]\n"
     ]
    }
   ],
   "source": [
    "def phaseCase(a,b,g,fname):\n",
    "    \n",
    "    p0 = var('p0')\n",
    "    p1 = var('p1') \n",
    "\n",
    "    f0 = -a*(p1+2*(1-p0-p1))*p0 + g * p1\n",
    "    f1 = a*(p1+2*(1-p0-p1))*p0 - ((a/2)*(p1+2*(1-p0-p1))+b+g)*p1 + 2 * g * (1-p0-p1)\n",
    "    DE=[f0,f1]\n",
    "    def p():\n",
    "        v = vector(DE)\n",
    "        return v/v.norm()\n",
    "    print(solve([f0==0, f1==0], p0,p1))\n",
    "    V = plot_vector_field(p(), (p0, 0.06040, 0.06090), (p1, 0.3280,0.3300),title=f'{fname}')\n",
    "    filename = \"test\"+fname+'.png'\n",
    "    \n",
    "    V.axes_labels([p0, p1])\n",
    "    \n",
    "    #V.show(title=f'{fname}', frame=True)\n",
    "    V.save('selected/'+filename)\n",
    "\n",
    "a_list = [0.7]\n",
    "\n",
    "for i in a_list:\n",
    "    phaseCase(i,0.2,0.2,'alpha_'+str(i))"
   ]
  },
  {
   "cell_type": "code",
   "execution_count": 55,
   "metadata": {
    "vscode": {
     "languageId": "python"
    }
   },
   "outputs": [
    {
     "name": "stdout",
     "output_type": "stream",
     "text": [
      "[\n",
      "[p0 == 1/8*sqrt(29) - 5/8, p1 == -1/2*sqrt(29) + 3],\n",
      "[p0 == -1/8*sqrt(29) - 5/8, p1 == 1/2*sqrt(29) + 3],\n",
      "[p0 == 1, p1 == 0]\n",
      "]\n"
     ]
    }
   ],
   "source": [
    "def phaseCase(a,b,g,fname):\n",
    "    \n",
    "    p0 = var('p0')\n",
    "    p1 = var('p1') \n",
    "\n",
    "    f0 = -a*(p1+2*(1-p0-p1))*p0 + g * p1\n",
    "    f1 = a*(p1+2*(1-p0-p1))*p0 - ((a/2)*(p1+2*(1-p0-p1))+b+g)*p1 + 2 * g * (1-p0-p1)\n",
    "    DE=[f0,f1]\n",
    "    def p():\n",
    "        v = vector(DE)\n",
    "        return v/v.norm()\n",
    "    print(solve([f0==0, f1==0], p0,p1))\n",
    "    V = plot_vector_field(p(), (p0, 0.04800, 0.04830), (p1, 0.3070, 0.3090),title=f'{fname}')\n",
    "    filename = \"test\"+fname+'.png'\n",
    "    \n",
    "    V.axes_labels([p0, p1])\n",
    "    \n",
    "    #V.show(title=f'{fname}', frame=True)\n",
    "    V.save('selected/'+filename)\n",
    "\n",
    "a_list = [0.8]\n",
    "\n",
    "for i in a_list:\n",
    "    phaseCase(i,0.2,0.2,'alpha_'+str(i))"
   ]
  },
  {
   "cell_type": "code",
   "execution_count": 91,
   "metadata": {
    "vscode": {
     "languageId": "python"
    }
   },
   "outputs": [
    {
     "name": "stdout",
     "output_type": "stream",
     "text": [
      "[\n",
      "[p0 == 1/18*sqrt(137) - 11/18, p1 == -2/9*sqrt(137) + 26/9],\n",
      "[p0 == -1/18*sqrt(137) - 11/18, p1 == 2/9*sqrt(137) + 26/9],\n",
      "[p0 == 1, p1 == 0]\n",
      "]\n"
     ]
    }
   ],
   "source": [
    "def phaseCase(a,b,g,fname):\n",
    "    \n",
    "    p0 = var('p0')\n",
    "    p1 = var('p1') \n",
    "\n",
    "    f0 = -a*(p1+2*(1-p0-p1))*p0 + g * p1\n",
    "    f1 = a*(p1+2*(1-p0-p1))*p0 - ((a/2)*(p1+2*(1-p0-p1))+b+g)*p1 + 2 * g * (1-p0-p1)\n",
    "    DE=[f0,f1]\n",
    "    def p():\n",
    "        v = vector(DE)\n",
    "        return v/v.norm()\n",
    "    print(solve([f0==0, f1==0], p0,p1))\n",
    "    V = plot_vector_field(p(), (p0, -0.14800, 1.2), (p1, -0.2, 1.2),title=f'{fname}')\n",
    "    filename = \"test\"+fname+'.png'\n",
    "    \n",
    "    V.axes_labels([p0, p1])\n",
    "    \n",
    "    #V.show(title=f'{fname}', frame=True)\n",
    "    V.save('selected/'+filename)\n",
    "\n",
    "a_list = [0.9]\n",
    "\n",
    "for i in a_list:\n",
    "    phaseCase(i,0.2,0.2,'alpha_'+str(i))"
   ]
  },
  {
   "cell_type": "code",
   "execution_count": 92,
   "metadata": {
    "vscode": {
     "languageId": "python"
    }
   },
   "outputs": [
    {
     "name": "stdout",
     "output_type": "stream",
     "text": [
      "[\n",
      "[p0 == 1/4*sqrt(33) - 5/4, p1 == -3/4*sqrt(33) + 19/4],\n",
      "[p0 == -1/4*sqrt(33) - 5/4, p1 == 3/4*sqrt(33) + 19/4],\n",
      "[p0 == 1, p1 == 0]\n",
      "]\n"
     ]
    }
   ],
   "source": [
    "def phaseCase(a,b,g,fname):\n",
    "    \n",
    "    p0 = var('p0')\n",
    "    p1 = var('p1') \n",
    "\n",
    "    f0 = -a*(p1+2*(1-p0-p1))*p0 + g * p1\n",
    "    f1 = a*(p1+2*(1-p0-p1))*p0 - ((a/2)*(p1+2*(1-p0-p1))+b+g)*p1 + 2 * g * (1-p0-p1)\n",
    "    DE=[f0,f1]\n",
    "    def p():\n",
    "        v = vector(DE)\n",
    "        return v/v.norm()\n",
    "    print(solve([f0==0, f1==0], p0,p1))\n",
    "    V = plot_vector_field(p(), (p0, -0.2, 1.2513977), (p1, -0.2, 1.2),title=f'{fname}')\n",
    "    filename = \"test\"+fname+'.png'\n",
    "    \n",
    "    V.axes_labels([p0, p1])\n",
    "    \n",
    "    #V.show(title=f'{fname}', frame=True)\n",
    "    V.save('selected/'+filename)\n",
    "\n",
    "b_list = [0.1]\n",
    "\n",
    "for i in b_list:\n",
    "    phaseCase(0.4,i,0.2,'beta_'+str(i))"
   ]
  },
  {
   "cell_type": "code",
   "execution_count": 15,
   "metadata": {
    "vscode": {
     "languageId": "python"
    }
   },
   "outputs": [
    {
     "name": "stdout",
     "output_type": "stream",
     "text": [
      "[\n",
      "[p0 == 1/4*sqrt(13) - 3/4, p1 == -sqrt(13) + 4],\n",
      "[p0 == -1/4*sqrt(13) - 3/4, p1 == sqrt(13) + 4],\n",
      "[p0 == 1, p1 == 0]\n",
      "]\n"
     ]
    }
   ],
   "source": [
    "def phaseCase(a,b,g,fname):\n",
    "    \n",
    "    p0 = var('p0')\n",
    "    p1 = var('p1') \n",
    "\n",
    "    f0 = -a*(p1+2*(1-p0-p1))*p0 + g * p1\n",
    "    f1 = a*(p1+2*(1-p0-p1))*p0 - ((a/2)*(p1+2*(1-p0-p1))+b+g)*p1 + 2 * g * (1-p0-p1)\n",
    "    DE=[f0,f1]\n",
    "    def p():\n",
    "        v = vector(DE)\n",
    "        return v/v.norm()\n",
    "    print(solve([f0==0, f1==0], p0,p1))\n",
    "    V = plot_vector_field(p(), (p0, 0.1513775, 0.1513977), (p1, 0.39444, 0.39446),title=f'{fname}')\n",
    "    filename = \"test\"+fname+'.png'\n",
    "    \n",
    "    V.axes_labels([p0, p1])\n",
    "    \n",
    "    #V.show(title=f'{fname}', frame=True)\n",
    "    V.save('selected/'+filename)\n",
    "\n",
    "b_list = [0.2]\n",
    "\n",
    "for i in b_list:\n",
    "    phaseCase(0.4,i,0.2,'beta_'+str(i))\n"
   ]
  },
  {
   "cell_type": "code",
   "execution_count": 6,
   "metadata": {
    "vscode": {
     "languageId": "python"
    }
   },
   "outputs": [
    {
     "data": {
      "text/plain": [
       "[[p0 == 0.151387818865997, p1 == 0.394448724536011],\n",
       " [p0 == -1.65138781886600, p1 == 7.60555127546399],\n",
       " [p0 == 1, p1 == 0]]"
      ]
     },
     "execution_count": 6,
     "metadata": {},
     "output_type": "execute_result"
    }
   ],
   "source": []
  },
  {
   "cell_type": "code",
   "execution_count": 42,
   "metadata": {
    "vscode": {
     "languageId": "python"
    }
   },
   "outputs": [
    {
     "name": "stdout",
     "output_type": "stream",
     "text": [
      "[\n",
      "[p0 == 1/12*sqrt(73) - 7/12, p1 == -5/12*sqrt(73) + 47/12],\n",
      "[p0 == -1/12*sqrt(73) - 7/12, p1 == 5/12*sqrt(73) + 47/12],\n",
      "[p0 == 1, p1 == 0]\n",
      "]\n"
     ]
    }
   ],
   "source": [
    "def phaseCase(a,b,g,fname):\n",
    "    \n",
    "    p0 = var('p0')\n",
    "    p1 = var('p1') \n",
    "\n",
    "    f0 = -a*(p1+2*(1-p0-p1))*p0 + g * p1\n",
    "    f1 = a*(p1+2*(1-p0-p1))*p0 - ((a/2)*(p1+2*(1-p0-p1))+b+g)*p1 + 2 * g * (1-p0-p1)\n",
    "    DE=[f0,f1]\n",
    "    def p():\n",
    "        v = vector(DE)\n",
    "        return v/v.norm()\n",
    "    print(solve([f0==0, f1==0], p0,p1))\n",
    "    V = plot_vector_field(p(), (p0, 0.0500, 0.2000), (p1, 0.2000, 0.5000),title=f'{fname}')\n",
    "    filename = \"test\"+fname+'.png'\n",
    "    \n",
    "    V.axes_labels([p0, p1])\n",
    "    \n",
    "    #V.show(title=f'{fname}', frame=True)\n",
    "    V.save('selected/'+filename)\n",
    "\n",
    "b_list = [0.3]\n",
    "\n",
    "for i in b_list:\n",
    "    phaseCase(0.4,i,0.2,'beta_'+str(i))"
   ]
  },
  {
   "cell_type": "code",
   "execution_count": 47,
   "metadata": {
    "vscode": {
     "languageId": "python"
    }
   },
   "outputs": [
    {
     "name": "stdout",
     "output_type": "stream",
     "text": [
      "[\n",
      "[p0 == 1/4*sqrt(6) - 1/2, p1 == -3/2*sqrt(6) + 4],\n",
      "[p0 == -1/4*sqrt(6) - 1/2, p1 == 3/2*sqrt(6) + 4],\n",
      "[p0 == 1, p1 == 0]\n",
      "]\n"
     ]
    }
   ],
   "source": [
    "def phaseCase(a,b,g,fname):\n",
    "    \n",
    "    p0 = var('p0')\n",
    "    p1 = var('p1') \n",
    "\n",
    "    f0 = -a*(p1+2*(1-p0-p1))*p0 + g * p1\n",
    "    f1 = a*(p1+2*(1-p0-p1))*p0 - ((a/2)*(p1+2*(1-p0-p1))+b+g)*p1 + 2 * g * (1-p0-p1)\n",
    "    DE=[f0,f1]\n",
    "    def p():\n",
    "        v = vector(DE)\n",
    "        return v/v.norm()\n",
    "    print(solve([f0==0, f1==0], p0,p1))\n",
    "    V = plot_vector_field(p(), (p0, 0.0103, 0.2000), (p1, 0.1000, 0.5000),title=f'{fname}')\n",
    "    filename = \"test\"+fname+'.png'\n",
    "    \n",
    "    V.axes_labels([p0, p1])\n",
    "    \n",
    "    #V.show(title=f'{fname}', frame=True)\n",
    "    V.save('selected/'+filename)\n",
    "\n",
    "b_list = [0.4]\n",
    "\n",
    "for i in b_list:\n",
    "    phaseCase(0.4,i,0.2,'beta_'+str(i))"
   ]
  },
  {
   "cell_type": "code",
   "execution_count": 44,
   "metadata": {
    "vscode": {
     "languageId": "python"
    }
   },
   "outputs": [
    {
     "data": {
      "text/plain": [
       "[[p0 == 0.112372435695794, p1 == 0.325765385825233],\n",
       " [p0 == -1.11237243569579, p1 == 7.67423461417477],\n",
       " [p0 == 1, p1 == 0]]"
      ]
     },
     "execution_count": 44,
     "metadata": {},
     "output_type": "execute_result"
    }
   ],
   "source": [
    "[\n",
    "[p0 == 1/4*sqrt(6).n() - 1/2, p1 == -3/2*sqrt(6).n() + 4],\n",
    "[p0 == -1/4*sqrt(6).n() - 1/2, p1 == 3/2*sqrt(6).n() + 4],\n",
    "[p0 == 1, p1 == 0]\n",
    "]"
   ]
  },
  {
   "cell_type": "code",
   "execution_count": 52,
   "metadata": {
    "vscode": {
     "languageId": "python"
    }
   },
   "outputs": [
    {
     "name": "stdout",
     "output_type": "stream",
     "text": [
      "[\n",
      "[p0 == -1, p1 == 8],\n",
      "[p0 == (1/10), p1 == (3/10)],\n",
      "[p0 == 1, p1 == 0]\n",
      "]\n"
     ]
    }
   ],
   "source": [
    "def phaseCase(a,b,g,fname):\n",
    "    \n",
    "    p0 = var('p0')\n",
    "    p1 = var('p1') \n",
    "\n",
    "    f0 = -a*(p1+2*(1-p0-p1))*p0 + g * p1\n",
    "    f1 = a*(p1+2*(1-p0-p1))*p0 - ((a/2)*(p1+2*(1-p0-p1))+b+g)*p1 + 2 * g * (1-p0-p1)\n",
    "    DE=[f0,f1]\n",
    "    def p():\n",
    "        v = vector(DE)\n",
    "        return v/v.norm()\n",
    "    print(solve([f0==0, f1==0], p0,p1))\n",
    "    V = plot_vector_field(p(), (p0, 0.01000, 0.2100), (p1, 0.01000, 0.51),title=f'{fname}')\n",
    "    filename = \"test\"+fname+'.png'\n",
    "    \n",
    "    V.axes_labels([p0, p1])\n",
    "    \n",
    "    #V.show(title=f'{fname}', frame=True)\n",
    "    V.save('selected/'+filename)\n",
    "\n",
    "b_list = [0.5]\n",
    "\n",
    "for i in b_list:\n",
    "    phaseCase(0.4,i,0.2,'beta_'+str(i))"
   ]
  },
  {
   "cell_type": "code",
   "execution_count": 96,
   "metadata": {
    "vscode": {
     "languageId": "python"
    }
   },
   "outputs": [
    {
     "name": "stdout",
     "output_type": "stream",
     "text": [
      "[\n",
      "[p0 == 1/12*sqrt(37) - 5/12, p1 == -2/3*sqrt(37) + 13/3],\n",
      "[p0 == -1/12*sqrt(37) - 5/12, p1 == 2/3*sqrt(37) + 13/3],\n",
      "[p0 == 1, p1 == 0]\n",
      "]\n"
     ]
    }
   ],
   "source": [
    "def phaseCase(a,b,g,fname):\n",
    "    \n",
    "    p0 = var('p0')\n",
    "    p1 = var('p1') \n",
    "\n",
    "    f0 = -a*(p1+2*(1-p0-p1))*p0 + g * p1\n",
    "    f1 = a*(p1+2*(1-p0-p1))*p0 - ((a/2)*(p1+2*(1-p0-p1))+b+g)*p1 + 2 * g * (1-p0-p1)\n",
    "    DE=[f0,f1]\n",
    "    def p():\n",
    "        v = vector(DE)\n",
    "        return v/v.norm()\n",
    "    print(solve([f0==0, f1==0], p0,p1))\n",
    "    V = plot_vector_field(p(), (p0, -0.2, 1.2), (p1, -0.2, 1.2),title=f'{fname}')\n",
    "    filename = \"test\"+fname+'.png'\n",
    "    \n",
    "    V.axes_labels([p0, p1])\n",
    "    \n",
    "    #V.show(title=f'{fname}', frame=True)\n",
    "    V.save('selected/'+filename)\n",
    "\n",
    "b_list = [0.6]\n",
    "\n",
    "for i in b_list:\n",
    "    phaseCase(0.4,i,0.2,'beta_'+str(i))"
   ]
  },
  {
   "cell_type": "code",
   "execution_count": 97,
   "metadata": {
    "vscode": {
     "languageId": "python"
    }
   },
   "outputs": [
    {
     "name": "stdout",
     "output_type": "stream",
     "text": [
      "[\n",
      "[p0 == 1/28*sqrt(177) - 11/28, p1 == -9/28*sqrt(177) + 127/28],\n",
      "[p0 == -1/28*sqrt(177) - 11/28, p1 == 9/28*sqrt(177) + 127/28],\n",
      "[p0 == 1, p1 == 0]\n",
      "]\n"
     ]
    }
   ],
   "source": [
    "def phaseCase(a,b,g,fname):\n",
    "    \n",
    "    p0 = var('p0')\n",
    "    p1 = var('p1') \n",
    "\n",
    "    f0 = -a*(p1+2*(1-p0-p1))*p0 + g * p1\n",
    "    f1 = a*(p1+2*(1-p0-p1))*p0 - ((a/2)*(p1+2*(1-p0-p1))+b+g)*p1 + 2 * g * (1-p0-p1)\n",
    "    DE=[f0,f1]\n",
    "    def p():\n",
    "        v = vector(DE)\n",
    "        return v/v.norm()\n",
    "    print(solve([f0==0, f1==0], p0,p1))\n",
    "    V = plot_vector_field(p(), (p0, -0.2, 1.2), (p1, -0.2, 1.2),title=f'{fname}')\n",
    "    filename = \"test\"+fname+'.png'\n",
    "    \n",
    "    V.axes_labels([p0, p1])\n",
    "    \n",
    "    #V.show(title=f'{fname}', frame=True)\n",
    "    V.save('selected/'+filename)\n",
    "\n",
    "b_list = [0.7]\n",
    "\n",
    "for i in b_list:\n",
    "    phaseCase(0.4,i,0.2,'beta_'+str(i))"
   ]
  },
  {
   "cell_type": "code",
   "execution_count": 98,
   "metadata": {
    "vscode": {
     "languageId": "python"
    }
   },
   "outputs": [
    {
     "name": "stdout",
     "output_type": "stream",
     "text": [
      "[\n",
      "[p0 == 1/8*sqrt(13) - 3/8, p1 == -5/4*sqrt(13) + 19/4],\n",
      "[p0 == -1/8*sqrt(13) - 3/8, p1 == 5/4*sqrt(13) + 19/4],\n",
      "[p0 == 1, p1 == 0]\n",
      "]\n"
     ]
    }
   ],
   "source": [
    "def phaseCase(a,b,g,fname):\n",
    "    \n",
    "    p0 = var('p0')\n",
    "    p1 = var('p1') \n",
    "\n",
    "    f0 = -a*(p1+2*(1-p0-p1))*p0 + g * p1\n",
    "    f1 = a*(p1+2*(1-p0-p1))*p0 - ((a/2)*(p1+2*(1-p0-p1))+b+g)*p1 + 2 * g * (1-p0-p1)\n",
    "    DE=[f0,f1]\n",
    "    def p():\n",
    "        v = vector(DE)\n",
    "        return v/v.norm()\n",
    "    print(solve([f0==0, f1==0], p0,p1))\n",
    "    V = plot_vector_field(p(), (p0, -0.2, 1.2), (p1, -0.2, 1.2),title=f'{fname}')\n",
    "    filename = \"test\"+fname+'.png'\n",
    "    \n",
    "    V.axes_labels([p0, p1])\n",
    "    \n",
    "    #V.show(title=f'{fname}', frame=True)\n",
    "    V.save('selected/'+filename)\n",
    "\n",
    "b_list = [0.8]\n",
    "\n",
    "for i in b_list:\n",
    "    phaseCase(0.4,i,0.2,'beta_'+str(i))"
   ]
  },
  {
   "cell_type": "code",
   "execution_count": 99,
   "metadata": {
    "vscode": {
     "languageId": "python"
    }
   },
   "outputs": [
    {
     "name": "stdout",
     "output_type": "stream",
     "text": [
      "[\n",
      "[p0 == 1/36*sqrt(241) - 13/36, p1 == -11/36*sqrt(241) + 179/36],\n",
      "[p0 == -1/36*sqrt(241) - 13/36, p1 == 11/36*sqrt(241) + 179/36],\n",
      "[p0 == 1, p1 == 0]\n",
      "]\n"
     ]
    }
   ],
   "source": [
    "def phaseCase(a,b,g,fname):\n",
    "    \n",
    "    p0 = var('p0')\n",
    "    p1 = var('p1') \n",
    "\n",
    "    f0 = -a*(p1+2*(1-p0-p1))*p0 + g * p1\n",
    "    f1 = a*(p1+2*(1-p0-p1))*p0 - ((a/2)*(p1+2*(1-p0-p1))+b+g)*p1 + 2 * g * (1-p0-p1)\n",
    "    DE=[f0,f1]\n",
    "    def p():\n",
    "        v = vector(DE)\n",
    "        return v/v.norm()\n",
    "    print(solve([f0==0, f1==0], p0,p1))\n",
    "    V = plot_vector_field(p(), (p0, -0.2, 1.2), (p1, -0.2, 1.2),title=f'{fname}')\n",
    "    filename = \"test\"+fname+'.png'\n",
    "    \n",
    "    V.axes_labels([p0, p1])\n",
    "    \n",
    "    #V.show(title=f'{fname}', frame=True)\n",
    "    V.save('selected/'+filename)\n",
    "\n",
    "b_list = [0.9]\n",
    "\n",
    "for i in b_list:\n",
    "    phaseCase(0.4,i,0.2,'beta_'+str(i))"
   ]
  },
  {
   "cell_type": "code",
   "execution_count": 100,
   "metadata": {
    "vscode": {
     "languageId": "python"
    }
   },
   "outputs": [
    {
     "name": "stdout",
     "output_type": "stream",
     "text": [
      "[\n",
      "[p0 == 1/8*sqrt(11) - 3/8, p1 == -3/4*sqrt(11) + 11/4],\n",
      "[p0 == -1/8*sqrt(11) - 3/8, p1 == 3/4*sqrt(11) + 11/4],\n",
      "[p0 == 1, p1 == 0]\n",
      "]\n"
     ]
    }
   ],
   "source": [
    "def phaseCase(a,b,g,fname):\n",
    "    \n",
    "    p0 = var('p0')\n",
    "    p1 = var('p1') \n",
    "\n",
    "    f0 = -a*(p1+2*(1-p0-p1))*p0 + g * p1\n",
    "    f1 = a*(p1+2*(1-p0-p1))*p0 - ((a/2)*(p1+2*(1-p0-p1))+b+g)*p1 + 2 * g * (1-p0-p1)\n",
    "    DE=[f0,f1]\n",
    "    def p():\n",
    "        v = vector(DE)\n",
    "        return v/v.norm()\n",
    "    print(solve([f0==0, f1==0], p0,p1))\n",
    "    V = plot_vector_field(p(), (p0, 0.01000, 0.600), (p1, 0.01000, 0.71),title=f'{fname}')\n",
    "    filename = \"test\"+fname+'.png'\n",
    "    \n",
    "    V.axes_labels([p0, p1])\n",
    "    \n",
    "    #V.show(title=f'{fname}', frame=True)\n",
    "    V.save('selected/'+filename)\n",
    "\n",
    "g_list = [0.1]\n",
    "\n",
    "for i in g_list:\n",
    "    phaseCase(0.4,0.2,i,'gamma_'+str(i))"
   ]
  },
  {
   "cell_type": "code",
   "execution_count": 101,
   "metadata": {
    "vscode": {
     "languageId": "python"
    }
   },
   "outputs": [
    {
     "name": "stdout",
     "output_type": "stream",
     "text": [
      "[\n",
      "[p0 == 1/4*sqrt(13) - 3/4, p1 == -sqrt(13) + 4],\n",
      "[p0 == -1/4*sqrt(13) - 3/4, p1 == sqrt(13) + 4],\n",
      "[p0 == 1, p1 == 0]\n",
      "]\n"
     ]
    }
   ],
   "source": [
    "def phaseCase(a,b,g,fname):\n",
    "    \n",
    "    p0 = var('p0')\n",
    "    p1 = var('p1') \n",
    "\n",
    "    f0 = -a*(p1+2*(1-p0-p1))*p0 + g * p1\n",
    "    f1 = a*(p1+2*(1-p0-p1))*p0 - ((a/2)*(p1+2*(1-p0-p1))+b+g)*p1 + 2 * g * (1-p0-p1)\n",
    "    DE=[f0,f1]\n",
    "    def p():\n",
    "        v = vector(DE)\n",
    "        return v/v.norm()\n",
    "    print(solve([f0==0, f1==0], p0,p1))\n",
    "    V = plot_vector_field(p(), (p0, 0.01000, 0.600), (p1, 0.01000, 0.71),title=f'{fname}')\n",
    "    filename = \"test\"+fname+'.png'\n",
    "    \n",
    "    V.axes_labels([p0, p1])\n",
    "    \n",
    "    #V.show(title=f'{fname}', frame=True)\n",
    "    V.save('selected/'+filename)\n",
    "\n",
    "g_list = [0.2]\n",
    "\n",
    "for i in g_list:\n",
    "    phaseCase(0.4,0.2,i,'gamma_'+str(i))"
   ]
  },
  {
   "cell_type": "code",
   "execution_count": 102,
   "metadata": {
    "vscode": {
     "languageId": "python"
    }
   },
   "outputs": [
    {
     "name": "stdout",
     "output_type": "stream",
     "text": [
      "[\n",
      "[p0 == 3/8*sqrt(15) - 9/8, p1 == -5/4*sqrt(15) + 21/4],\n",
      "[p0 == -3/8*sqrt(15) - 9/8, p1 == 5/4*sqrt(15) + 21/4],\n",
      "[p0 == 1, p1 == 0]\n",
      "]\n"
     ]
    }
   ],
   "source": [
    "def phaseCase(a,b,g,fname):\n",
    "    \n",
    "    p0 = var('p0')\n",
    "    p1 = var('p1') \n",
    "\n",
    "    f0 = -a*(p1+2*(1-p0-p1))*p0 + g * p1\n",
    "    f1 = a*(p1+2*(1-p0-p1))*p0 - ((a/2)*(p1+2*(1-p0-p1))+b+g)*p1 + 2 * g * (1-p0-p1)\n",
    "    DE=[f0,f1]\n",
    "    def p():\n",
    "        v = vector(DE)\n",
    "        return v/v.norm()\n",
    "    print(solve([f0==0, f1==0], p0,p1))\n",
    "    V = plot_vector_field(p(), (p0, 0.01000, 0.600), (p1, 0.01000, 0.71),title=f'{fname}')\n",
    "    filename = \"test\"+fname+'.png'\n",
    "    \n",
    "    V.axes_labels([p0, p1])\n",
    "    \n",
    "    #V.show(title=f'{fname}', frame=True)\n",
    "    V.save('selected/'+filename)\n",
    "\n",
    "g_list = [0.3]\n",
    "\n",
    "for i in g_list:\n",
    "    phaseCase(0.4,0.2,i,'gamma_'+str(i))"
   ]
  },
  {
   "cell_type": "code",
   "execution_count": 57,
   "metadata": {
    "vscode": {
     "languageId": "python"
    }
   },
   "outputs": [
    {
     "name": "stdout",
     "output_type": "stream",
     "text": [
      "[\n",
      "[p0 == 3/8*sqrt(15) - 9/8, p1 == -5/4*sqrt(15) + 21/4],\n",
      "[p0 == -3/8*sqrt(15) - 9/8, p1 == 5/4*sqrt(15) + 21/4],\n",
      "[p0 == 1, p1 == 0]\n",
      "]\n"
     ]
    }
   ],
   "source": [
    "def phaseCase(a,b,g,fname):\n",
    "    \n",
    "    p0 = var('p0')\n",
    "    p1 = var('p1') \n",
    "\n",
    "    f0 = -a*(p1+2*(1-p0-p1))*p0 + g * p1\n",
    "    f1 = a*(p1+2*(1-p0-p1))*p0 - ((a/2)*(p1+2*(1-p0-p1))+b+g)*p1 + 2 * g * (1-p0-p1)\n",
    "    DE=[f0,f1]\n",
    "    def p():\n",
    "        v = vector(DE)\n",
    "        return v/v.norm()\n",
    "    print(solve([f0==0, f1==0], p0,p1))\n",
    "    V = plot_vector_field(p(), (p0, 0.01000, 0.600), (p1, 0.01000, 0.71),title=f'{fname}')\n",
    "    filename = \"test\"+fname+'.png'\n",
    "    \n",
    "    V.axes_labels([p0, p1])\n",
    "    \n",
    "    #V.show(title=f'{fname}', frame=True)\n",
    "    V.save('selected/'+filename)\n",
    "\n",
    "g_list = [0.3]\n",
    "\n",
    "for i in g_list:\n",
    "    phaseCase(0.4,0.2,i,'gamma_'+str(i))"
   ]
  },
  {
   "cell_type": "code",
   "execution_count": 62,
   "metadata": {
    "vscode": {
     "languageId": "python"
    }
   },
   "outputs": [
    {
     "name": "stdout",
     "output_type": "stream",
     "text": [
      "[\n",
      "[p0 == 1/2*sqrt(17) - 3/2, p1 == -3/2*sqrt(17) + 13/2],\n",
      "[p0 == -1/2*sqrt(17) - 3/2, p1 == 3/2*sqrt(17) + 13/2],\n",
      "[p0 == 1, p1 == 0]\n",
      "]\n"
     ]
    }
   ],
   "source": [
    "def phaseCase(a,b,g,fname):\n",
    "    \n",
    "    p0 = var('p0')\n",
    "    p1 = var('p1') \n",
    "\n",
    "    f0 = -a*(p1+2*(1-p0-p1))*p0 + g * p1\n",
    "    f1 = a*(p1+2*(1-p0-p1))*p0 - ((a/2)*(p1+2*(1-p0-p1))+b+g)*p1 + 2 * g * (1-p0-p1)\n",
    "    DE=[f0,f1]\n",
    "    def p():\n",
    "        v = vector(DE)\n",
    "        return v/v.norm()\n",
    "    print(solve([f0==0, f1==0], p0,p1))\n",
    "    V = plot_vector_field(p(), (p0, 0.01000, 0.9100), (p1, 0.01000, 0.99),title=f'{fname}')\n",
    "    filename = \"test\"+fname+'.png'\n",
    "    \n",
    "    V.axes_labels([p0, p1])\n",
    "    \n",
    "    #V.show(title=f'{fname}', frame=True)\n",
    "    V.save('selected/'+filename)\n",
    "\n",
    "g_list = [0.4]\n",
    "\n",
    "for i in g_list:\n",
    "    phaseCase(0.4,0.2,i,'gamma_'+str(i))"
   ]
  },
  {
   "cell_type": "code",
   "execution_count": 72,
   "metadata": {
    "vscode": {
     "languageId": "python"
    }
   },
   "outputs": [
    {
     "name": "stdout",
     "output_type": "stream",
     "text": [
      "[\n",
      "[p0 == 5/8*sqrt(19) - 15/8, p1 == -7/4*sqrt(19) + 31/4],\n",
      "[p0 == -5/8*sqrt(19) - 15/8, p1 == 7/4*sqrt(19) + 31/4],\n",
      "[p0 == 1, p1 == 0]\n",
      "]\n"
     ]
    }
   ],
   "source": [
    "def phaseCase(a,b,g,fname):\n",
    "    \n",
    "    p0 = var('p0')\n",
    "    p1 = var('p1') \n",
    "\n",
    "    f0 = -a*(p1+2*(1-p0-p1))*p0 + g * p1\n",
    "    f1 = a*(p1+2*(1-p0-p1))*p0 - ((a/2)*(p1+2*(1-p0-p1))+b+g)*p1 + 2 * g * (1-p0-p1)\n",
    "    DE=[f0,f1]\n",
    "    def p():\n",
    "        v = vector(DE)\n",
    "        return v/v.norm()\n",
    "    print(solve([f0==0, f1==0], p0,p1))\n",
    "    V = plot_vector_field(p(), (p0, 0.01000, 0.9999100), (p1, -0.11000, 0.51),title=f'{fname}')\n",
    "    filename = \"test\"+fname+'.png'\n",
    "    \n",
    "    V.axes_labels([p0, p1])\n",
    "    \n",
    "    #V.show(title=f'{fname}', frame=True)\n",
    "    V.save('selected/'+filename)\n",
    "\n",
    "g_list = [0.5]\n",
    "\n",
    "for i in g_list:\n",
    "    phaseCase(0.4,0.2,i,'gamma_'+str(i))"
   ]
  },
  {
   "cell_type": "code",
   "execution_count": 85,
   "metadata": {
    "vscode": {
     "languageId": "python"
    }
   },
   "outputs": [
    {
     "name": "stdout",
     "output_type": "stream",
     "text": [
      "[\n",
      "[p0 == 81/200*sqrt(55) - 81/40, p1 == -111/100*sqrt(55) + 33/4],\n",
      "[p0 == -81/200*sqrt(55) - 81/40, p1 == 111/100*sqrt(55) + 33/4],\n",
      "[p0 == 1, p1 == 0]\n",
      "]\n"
     ]
    }
   ],
   "source": [
    "def phaseCase(a,b,g,fname):\n",
    "    \n",
    "    p0 = var('p0')\n",
    "    p1 = var('p1') \n",
    "\n",
    "    f0 = -a*(p1+2*(1-p0-p1))*p0 + g * p1\n",
    "    f1 = a*(p1+2*(1-p0-p1))*p0 - ((a/2)*(p1+2*(1-p0-p1))+b+g)*p1 + 2 * g * (1-p0-p1)\n",
    "    DE=[f0,f1]\n",
    "    def p():\n",
    "        v = vector(DE)\n",
    "        return v/v.norm()\n",
    "    print(solve([f0==0, f1==0], p0,p1))\n",
    "    V = plot_vector_field(p(), (p0, -0.1, 1.2), (p1, -0.11000, 0.6),title=f'{fname}')\n",
    "    filename = \"test\"+fname+'.png'\n",
    "    \n",
    "    V.axes_labels([p0, p1])\n",
    "    \n",
    "    #V.show(title=f'{fname}', frame=True)\n",
    "    V.save('selected/'+filename)\n",
    "\n",
    "g_list = [0.5400]\n",
    "\n",
    "for i in g_list:\n",
    "    phaseCase(0.4,0.2,i,'gamma_'+str(i))"
   ]
  },
  {
   "cell_type": "code",
   "execution_count": 64,
   "metadata": {
    "vscode": {
     "languageId": "python"
    }
   },
   "outputs": [
    {
     "data": {
      "text/plain": [
       "[[p0 == 0.849311839712921, p1 == 0.121926848803820],\n",
       " [p0 == -4.59931183971292, p1 == 15.3780731511962],\n",
       " [p0 == 1, p1 == 0]]"
      ]
     },
     "execution_count": 64,
     "metadata": {},
     "output_type": "execute_result"
    }
   ],
   "source": [
    "[\n",
    "[p0 == 5/8*sqrt(19).n() - 15/8, p1 == -7/4*sqrt(19).n() + 31/4],\n",
    "[p0 == -5/8*sqrt(19).n() - 15/8, p1 == 7/4*sqrt(19).n() + 31/4],\n",
    "[p0 == 1, p1 == 0]\n",
    "]"
   ]
  },
  {
   "cell_type": "code",
   "execution_count": 75,
   "metadata": {
    "vscode": {
     "languageId": "python"
    }
   },
   "outputs": [
    {
     "name": "stdout",
     "output_type": "stream",
     "text": [
      "[\n",
      "[p0 == 3/4*sqrt(21) - 9/4, p1 == -2*sqrt(21) + 9],\n",
      "[p0 == -3/4*sqrt(21) - 9/4, p1 == 2*sqrt(21) + 9],\n",
      "[p0 == 1, p1 == 0]\n",
      "]\n"
     ]
    }
   ],
   "source": [
    "def phaseCase(a,b,g,fname):\n",
    "    \n",
    "    p0 = var('p0')\n",
    "    p1 = var('p1') \n",
    "\n",
    "    f0 = -a*(p1+2*(1-p0-p1))*p0 + g * p1\n",
    "    f1 = a*(p1+2*(1-p0-p1))*p0 - ((a/2)*(p1+2*(1-p0-p1))+b+g)*p1 + 2 * g * (1-p0-p1)\n",
    "    DE=[f0,f1]\n",
    "    def p():\n",
    "        v = vector(DE)\n",
    "        return v/v.norm()\n",
    "    print(solve([f0==0, f1==0], p0,p1))\n",
    "    V = plot_vector_field(p(), (p0, -0.2000, 1), (p1,- 0.1000, 0.51),title=f'{fname}')\n",
    "    filename = \"test\"+fname+'.png'\n",
    "    \n",
    "    V.axes_labels([p0, p1])\n",
    "    \n",
    "    #V.show(title=f'{fname}', frame=True)\n",
    "    V.save('selected/'+filename)\n",
    "\n",
    "g_list = [0.6]\n",
    "\n",
    "for i in g_list:\n",
    "    phaseCase(0.4,0.2,i,'gamma_'+str(i))"
   ]
  },
  {
   "cell_type": "code",
   "execution_count": 79,
   "metadata": {
    "vscode": {
     "languageId": "python"
    }
   },
   "outputs": [
    {
     "name": "stdout",
     "output_type": "stream",
     "text": [
      "[\n",
      "[p0 == 7/8*sqrt(23) - 21/8, p1 == -9/4*sqrt(23) + 41/4],\n",
      "[p0 == -7/8*sqrt(23) - 21/8, p1 == 9/4*sqrt(23) + 41/4],\n",
      "[p0 == 1, p1 == 0]\n",
      "]\n"
     ]
    }
   ],
   "source": [
    "def phaseCase(a,b,g,fname):\n",
    "    \n",
    "    p0 = var('p0')\n",
    "    p1 = var('p1') \n",
    "\n",
    "    f0 = -a*(p1+2*(1-p0-p1))*p0 + g * p1\n",
    "    f1 = a*(p1+2*(1-p0-p1))*p0 - ((a/2)*(p1+2*(1-p0-p1))+b+g)*p1 + 2 * g * (1-p0-p1)\n",
    "    DE=[f0,f1]\n",
    "    def p():\n",
    "        v = vector(DE)\n",
    "        return v/v.norm()\n",
    "    print(solve([f0==0, f1==0], p0,p1))\n",
    "    V = plot_vector_field(p(), (p0, -0.1000, 1.2), (p1, -0.1000, 1.2),title=f'{fname}')\n",
    "    filename = \"test\"+fname+'.png'\n",
    "    \n",
    "    V.axes_labels([p0, p1])\n",
    "    \n",
    "    #V.show(title=f'{fname}', frame=True)\n",
    "    V.save('selected/'+filename)\n",
    "\n",
    "g_list = [0.7]\n",
    "\n",
    "for i in g_list:\n",
    "    phaseCase(0.4,0.2,i,'gamma_'+str(i))"
   ]
  },
  {
   "cell_type": "code",
   "execution_count": 90,
   "metadata": {
    "vscode": {
     "languageId": "python"
    }
   },
   "outputs": [
    {
     "name": "stdout",
     "output_type": "stream",
     "text": [
      "[\n",
      "[p0 == 2, p1 == -1],\n",
      "[p0 == -8, p1 == 24],\n",
      "[p0 == 1, p1 == 0]\n",
      "]\n"
     ]
    }
   ],
   "source": [
    "def phaseCase(a,b,g,fname):\n",
    "    \n",
    "    p0 = var('p0')\n",
    "    p1 = var('p1') \n",
    "\n",
    "    f0 = -a*(p1+2*(1-p0-p1))*p0 + g * p1\n",
    "    f1 = a*(p1+2*(1-p0-p1))*p0 - ((a/2)*(p1+2*(1-p0-p1))+b+g)*p1 + 2 * g * (1-p0-p1)\n",
    "    DE=[f0,f1]\n",
    "    def p():\n",
    "        v = vector(DE)\n",
    "        return v/v.norm()\n",
    "    print(solve([f0==0, f1==0], p0,p1))\n",
    "    V = plot_vector_field(p(), (p0, -0.1000, 1.2), (p1, 0.01000, 0.51),title=f'{fname}')\n",
    "    filename = \"test\"+fname+'.png'\n",
    "    \n",
    "    V.axes_labels([p0, p1])\n",
    "    \n",
    "    #V.show(title=f'{fname}', frame=True)\n",
    "    V.save('selected/'+filename)\n",
    "\n",
    "g_list = [0.8]\n",
    "\n",
    "for i in g_list:\n",
    "    phaseCase(0.4,0.2,i,'gamma_'+str(i))"
   ]
  },
  {
   "cell_type": "code",
   "execution_count": 111,
   "metadata": {
    "vscode": {
     "languageId": "python"
    }
   },
   "outputs": [
    {
     "name": "stdout",
     "output_type": "stream",
     "text": [
      "[\n",
      "[p0 == 1/18*sqrt(137) - 11/18, p1 == -2/9*sqrt(137) + 26/9],\n",
      "[p0 == -1/18*sqrt(137) - 11/18, p1 == 2/9*sqrt(137) + 26/9],\n",
      "[p0 == 1, p1 == 0]\n",
      "]\n"
     ]
    }
   ],
   "source": [
    "def phaseCase(a,b,g,fname):\n",
    "    \n",
    "    p0 = var('p0')\n",
    "    p1 = var('p1') \n",
    "\n",
    "    f0 = -a*(p1+2*(1-p0-p1))*p0 + g * p1\n",
    "    f1 = a*(p1+2*(1-p0-p1))*p0 - ((a/2)*(p1+2*(1-p0-p1))+b+g)*p1 + 2 * g * (1-p0-p1)\n",
    "    DE=[f0,f1]\n",
    "    def p():\n",
    "        v = vector(DE)\n",
    "        return v/v.norm()\n",
    "    print(solve([f0==0, f1==0], p0,p1))\n",
    "    V = plot_vector_field(p(), (p0, 0.001, 0.2), (p1, 0.2, 0.4),title=f'{fname}')\n",
    "    filename = \"test\"+fname+'.png'\n",
    "    \n",
    "    V.axes_labels([p0, p1])\n",
    "    \n",
    "    #V.show(title=f'{fname}', frame=True)\n",
    "    V.save('selected/'+filename)\n",
    "\n",
    "a_list = [0.9]\n",
    "\n",
    "for i in a_list:\n",
    "    phaseCase(i,0.2,0.2,'alpha_'+str(i))"
   ]
  },
  {
   "cell_type": "code",
   "execution_count": 9,
   "metadata": {
    "vscode": {
     "languageId": "python"
    }
   },
   "outputs": [
    {
     "data": {
      "image/png": "[encoded data removed]",
      "text/plain": [
       "Graphics object consisting of 2 graphics primitives"
      ]
     },
     "metadata": {},
     "output_type": "display_data"
    }
   ],
   "source": [
    "p0 = var('p0')\n",
    "p1 = var('p1') \n",
    "t = var('t')\n",
    "a,b,g = 0.4, 0.2, 0.2\n",
    "f0 = -a*(p1+2*(1-p0-p1))*p0 + g * p1\n",
    "f1 = a*(p1+2*(1-p0-p1))*p0 - ((a/2)*(p1+2*(1-p0-p1))+b+g)*p1 + 2 * g * (1-p0-p1)\n",
    "DE=[f0,f1]\n",
    "V = plot_vector_field(DE, (p0, -0.2, 1.2), (p1, -0.2, 1.2))\n",
    "def p(x,y):\n",
    "    v = vector(DE)\n",
    "    return v/v.norm()\n",
    "\n",
    "V += plot_vector_field(p(p0, p1), (p0, -0.2, 1.2), (p1, -0.2, 1.2))\n",
    "\n",
    "\n",
    "#for j in srange(-0.2, 1.2, 0.1):\n",
    "#    S1 = desolve_system_rk4(DE, [p0, p1], ics = [-0.2, j, 1.2], ivar = t, end_points = [0, 50])\n",
    "#    Q1 = [[j, k] for i, j, k in S1]\n",
    "#    V += line(Q1, color = hue((j+2)/4))\n",
    "#    S2 = desolve_system_rk4(DE, [p0, p1], ics = [-0.2, j, -1.2], ivar = t, end_points = [0, 50])\n",
    "#    Q2 = [[j, k] for i, j, k in S2]\n",
    "#    V += line(Q2, color = hue((j+2)/4))\n",
    "\n",
    "V.show(aspect_ratio=1)"
   ]
  },
  {
   "cell_type": "code",
   "execution_count": 5,
   "metadata": {
    "vscode": {
     "languageId": "python"
    }
   },
   "outputs": [
    {
     "name": "stdout",
     "output_type": "stream",
     "text": [
      "[\n",
      "[p0 == 1/18*sqrt(137) - 11/18, p1 == -2/9*sqrt(137) + 26/9],\n",
      "[p0 == -1/18*sqrt(137) - 11/18, p1 == 2/9*sqrt(137) + 26/9],\n",
      "[p0 == 1, p1 == 0]\n",
      "]\n"
     ]
    }
   ],
   "source": [
    "def phaseCase(a,b,g,fname):\n",
    "    \n",
    "    p0 = var('p0')\n",
    "    p1 = var('p1') \n",
    "\n",
    "    f0 = -a*(p1+2*(1-p0-p1))*p0 + g * p1\n",
    "    f1 = a*(p1+2*(1-p0-p1))*p0 - ((a/2)*(p1+2*(1-p0-p1))+b+g)*p1 + 2 * g * (1-p0-p1)\n",
    "    DE=[f0,f1]\n",
    "    def p():\n",
    "        v = vector(DE)\n",
    "        return v/v.norm()\n",
    "    print(solve([f0==0, f1==0], p0,p1))\n",
    "    V = plot_vector_field(p(), (p0, 0.001, 0.2), (p1, 0.2, 0.4),title=f'{fname}')\n",
    "    filename = \"test\"+fname+'.eps'\n",
    "    \n",
    "    V.axes_labels([p0, p1])\n",
    "    \n",
    "    #V.show(title=f'{fname}', frame=True)\n",
    "    V.save('density/'+filename)\n",
    "\n",
    "a_list = [0.9]\n",
    "\n",
    "for i in a_list:\n",
    "    phaseCase(i,0.2,0.2,'alpha_'+str(i))"
   ]
  }
 ],
 "metadata": {
  "kernelspec": {
   "display_name": "SageMath 9.2",
   "language": "sage",
   "name": "sagemath"
  },
  "language_info": {
   "codemirror_mode": {
    "name": "ipython",
    "version": 3
   },
   "file_extension": ".py",
   "mimetype": "text/x-python",
   "name": "sage",
   "nbconvert_exporter": "python",
   "pygments_lexer": "ipython3",
   "version": "3.9.7"
  },
  "orig_nbformat": 4,
  "vscode": {
   "interpreter": {
    "hash": "31f2aee4e71d21fbe5cf8b01ff0e069b9275f58929596ceb00d14d90e3e16cd6"
   }
  }
 },
 "nbformat": 4,
 "nbformat_minor": 2
}

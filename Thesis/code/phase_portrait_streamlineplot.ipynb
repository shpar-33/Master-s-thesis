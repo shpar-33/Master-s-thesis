{
 "cells": [
  {
   "cell_type": "code",
   "execution_count": 7,
   "metadata": {
    "vscode": {
     "languageId": "python"
    }
   },
   "outputs": [],
   "source": [
    "# Two dimensional streamline figure\n",
    "# fifthcase is for reducing plane with p0,p1,p2\n",
    "# function for a as alpha(between household infection rate), beta(within household infection rate), gamma(recovery household infection rate)\n",
    "# varying parameters\n",
    "def fifthCase(a,b,g,fname):  \n",
    "    #t = var('t')\n",
    "    P0 = var('P0') # probability with zero person being infected inside household. \n",
    "    P1 = var('P1') # probability with one person being infected inside household. \n",
    "    #p2 = var('p2') # probability with two person being infected inside household. \n",
    "\n",
    "    f0 = -a*(P1+2*(1-P0-P1))*P0 + g * P1 # function of P0 or can be represented as change of P0  \n",
    "    f1 = a*(P1+2*(1-P0-P1))*P0 - ((a/2)*(P1+2*(1-P0-P1))+b+g)*P1 + 2 * g * (1-P0-P1) # function of P1 \n",
    "    #f2 = ((a/2)*(p1+2*(1-p0-p1))+b)*p1 - 2 * g * (1-p0-p1)\n",
    "    DE=[f0,f1] # differential equation \n",
    "\n",
    "    V = streamline_plot(DE, (P0, -0.1, 1), (P1, -0.1, 1))# three argument DE, range for P0 and range for P1\n",
    "    filename = \"test\"+fname+'.eps'\n",
    "    # label axes \n",
    "    V.axes_labels(['Probability of household state P0', 'Probability of household state P1'])\n",
    "    \n",
    "    #V.show(title=f'{fname}', frame=True)\n",
    "    V.save(filename)\n",
    "    \n",
    "a_list = [0.1,0.2,0.3,0.4,0.5,0.6,0.7,0.8,0.9,0.0] # array for alpha \n",
    "b_list = [0.1,0.2,0.3,0.4,0.5,0.6,0.7,0.8,0.9,0.0] # array for beta\n",
    "g_list = [0.1,0.2,0.3,0.4,0.5,0.6,0.7,0.8,0.9,0.0] # array for gamma\n",
    "\n",
    "# keep two parameters fixed and change one parameters \n",
    "for i in a_list: # for loop varying alpha and keeping beta and gamma fixed\n",
    "    fifthCase(i,0.2,0.2,'alpha_'+str(i))\n",
    "\n",
    "for i in b_list: # for loop varying beta and keeping alpha and gamma fixed\n",
    "    fifthCase(0.4,i,0.2,'beta_'+str(i))\n",
    "\n",
    "for i in g_list: # for loop varying gamma and keeping beta and alpha fixed\n",
    "    fifthCase(0.4,0.2,i,'gamma_'+str(i))"
   ]
  }
 ],
 "metadata": {
  "kernelspec": {
   "display_name": "SageMath 9.2",
   "language": "sage",
   "name": "sagemath"
  },
  "language_info": {
   "codemirror_mode": {
    "name": "ipython",
    "version": 3
   },
   "file_extension": ".py",
   "mimetype": "text/x-python",
   "name": "sage",
   "nbconvert_exporter": "python",
   "pygments_lexer": "ipython3",
   "version": "3.9.7"
  },
  "orig_nbformat": 4,
  "vscode": {
   "interpreter": {
    "hash": "31f2aee4e71d21fbe5cf8b01ff0e069b9275f58929596ceb00d14d90e3e16cd6"
   }
  }
 },
 "nbformat": 4,
 "nbformat_minor": 2
}

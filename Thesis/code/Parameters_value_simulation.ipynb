{
 "cells": [
  {
   "cell_type": "code",
   "execution_count": 2,
   "metadata": {},
   "outputs": [
    {
     "name": "stdout",
     "output_type": "stream",
     "text": [
      "1/50\n",
      "0.980000000000000\n",
      "-0.00384000000000000\n",
      "-0.000240000000000001\n",
      "0.00408000000000000\n",
      "0.00792000000000000\n",
      "-0.00384000000000000,-0.000240000000000001,0.00408000000000000,0.00792000000000000\n",
      "0.980000000000000,1/50,0.000000000000000,0.00792000000000000\n"
     ]
    }
   ],
   "source": [
    "# initial parameters \n",
    "alpha = 0.4 #household external infection rate \n",
    "beta = 0.2  #household internal infection rate\n",
    "gamma = 0.2 \n",
    "\n",
    "P1 = 12/600\n",
    "P2 = 0.0\n",
    "P0 = 1-P1-P2\n",
    "dP0dt = - alpha*(P1+2*P2)*P0 + gamma * P1 \n",
    "dP1dt = alpha*(P1+2*P2)*P0 - ((alpha/2)*(P1+2*P2)+beta+gamma)*P1 + 2 * gamma * P2\n",
    "dP2dt = (alpha/2*(P1+2*P2)+beta)*P1 - 2 * gamma * P2\n",
    "TI2 = dP1dt + 2 * dP2dt # total expected infected rate\n",
    "#dTI2dt = alpha*(P1+2*P2)*P0+((alpha/2)*(P1+2*P2)+beta-gamma)*P1 - 2*gamma*P2\n",
    "print(P1)\n",
    "print(P0)\n",
    "print(dP0dt)\n",
    "print(dP1dt)\n",
    "print(dP2dt)\n",
    "print(TI2)\n",
    "print(f'{dP0dt},{dP1dt},{dP2dt},{TI2}')\n",
    "print(f'{P0},{P1},{P2},{TI2}')\n"
   ]
  },
  {
   "cell_type": "code",
   "execution_count": 6,
   "metadata": {},
   "outputs": [
    {
     "name": "stdout",
     "output_type": "stream",
     "text": [
      "  message: The solver successfully reached the end of the integration interval.\n",
      "  success: True\n",
      "   status: 0\n",
      "        t: [ 0.000e+00  1.000e+00 ...  4.900e+01  5.000e+01]\n",
      "        y: [[ 9.800e-01  9.746e-01 ...  1.515e-01  1.515e-01]\n",
      "            [ 2.000e-02  2.187e-02 ...  3.941e-01  3.943e-01]\n",
      "            [ 0.000e+00  3.491e-03 ...  4.544e-01  4.543e-01]\n",
      "            [ 7.920e-03  1.677e-02 ...  1.291e+00  1.291e+00]]\n",
      "      sol: None\n",
      " t_events: None\n",
      " y_events: None\n",
      "     nfev: 146\n",
      "     njev: 0\n",
      "      nlu: 0\n"
     ]
    },
    {
     "name": "stderr",
     "output_type": "stream",
     "text": [
      "The PostScript backend does not support transparency; partially transparent artists will be rendered opaque.\n"
     ]
    },
    {
     "data": {
      "image/png": "[encoded data removed]",
      "text/plain": [
       "<Figure size 432x288 with 1 Axes>"
      ]
     },
     "metadata": {
      "needs_background": "light"
     },
     "output_type": "display_data"
    }
   ],
   "source": [
    "3# fig 2 pg 3 Dyson et al.(2017)\n",
    "# In (1200 persons) 600household, 12 households with one infected, 0  with 2 infected , all are zero infected is rest = \n",
    "from scipy.integrate import solve_ivp\n",
    "import numpy as np\n",
    "import matplotlib.pyplot as plt\n",
    "def odes(t, P):\n",
    "    alpha = 0.4\n",
    "    beta = 0.2\n",
    "    gamma = 0.2\n",
    "    # assign each ODE to a vector element\n",
    "    P0 = P[0]\n",
    "    P1 = P[1]\n",
    "    P2 = P[2]\n",
    "    TI2 = P[3] # making expection rate as 4th vector with TI2 \n",
    "    # define each ODE\n",
    "    dP0dt = -alpha*(P1+2*P2)*P0 + gamma * P1\n",
    "    dP1dt = alpha*(P1+2*P2)*P0 - ((alpha/2)*(P1+2*P2)+beta+gamma)*P1 + 2 * gamma * P2\n",
    "    dP2dt = ((alpha/2)*(P1+2*P2)+beta)*P1 - 2 * gamma * P2\n",
    "    dTI2dt = dP1dt + 2 * dP2dt\n",
    "    #dexpIdt = alpha*(P1+2*P2)*P0+((alpha/2)*(P1+2*P2)+beta-gamma)*P1 - 2*gamma*P2\n",
    "    return np.array([dP0dt,dP1dt,dP2dt,dTI2dt])\n",
    "t_span = np.array([0,50])\n",
    "times = np.linspace(t_span[0],t_span[1],51)\n",
    "#intial conditions\n",
    "Pi = np.array([0.98,0.02,0,0.00792])\n",
    "sol = solve_ivp(odes,t_span,Pi,t_eval=times)\n",
    "print(sol)\n",
    "t = sol.t\n",
    "P0 = sol.y[0]# should be y not P\n",
    "P1 = sol.y[1]\n",
    "P2 = sol.y[2]\n",
    "TI2 = sol.y[3]\n",
    "\n",
    "plt.rc(\"font\",size=12)\n",
    "plt.figure()\n",
    "plt.text(1,2,'alpha = 0.4,beta = 0.2,gamma = 0.2', fontsize=12 )\n",
    "plt.semilogy(t,P0,':', label = 'P0')\n",
    "plt.semilogy(t,P1,'-', label = 'P1')\n",
    "plt.semilogy(t,P2,'--', label = 'P2')\n",
    "#plt.semilogy(t,TI2,'.', label = 'TI2')\n",
    "plt.xlabel(\"time\")\n",
    "plt.ylabel(\"Probability of Household state\")\n",
    "plt.legend()\n",
    "plt.savefig(\"01g1.eps\")\n",
    "\n",
    "#plt.show()\n",
    "\n",
    "output_timeline01g1 = open(\"output_timeline01g1.txt\",\"w\")\n",
    "\n",
    "for i in range(len(t)):\n",
    "    write_in = f\"time: {t[i]}, P0: {P0[i]}, P1: {P1[i]}, P2: {P2[i]}, TI2: {TI2[i]}\\n\"\n",
    "    output_timeline01g1.write(write_in)\n",
    "    #print(f\"time: {t[i]}, P0: {P0[i]}, P1: {P1[i]}, P2: {P2[i]}, TI2: {TI2[i]}\")\n",
    "\n",
    "output_timeline01g1.close()"
   ]
  },
  {
   "cell_type": "code",
   "execution_count": 7,
   "metadata": {},
   "outputs": [
    {
     "name": "stdout",
     "output_type": "stream",
     "text": [
      "0.02\n",
      "0.98\n",
      "-0.0058\n",
      "0.0016999999999999984\n",
      "0.0041\n",
      "0.009899999999999999\n",
      "-0.0058,0.0016999999999999984,0.0041,0.009899999999999999\n",
      "0.98,0.02,0,0.009899999999999999\n"
     ]
    }
   ],
   "source": [
    "# initial parameters \n",
    "alpha = 0.5\n",
    "beta = 0.2\n",
    "gamma = 0.2\n",
    "\n",
    "P1 = 12/600\n",
    "P2 = 0\n",
    "P0 = 1-P1-P2\n",
    "dP0dt = -alpha * ( P1 + 2 * P2 ) * P0 + gamma * P1 \n",
    "dP1dt = alpha*(P1+2*P2)*P0 - ( ( alpha / 2 ) * ( P1 + 2 * P2 ) + beta + gamma ) * P1 + 2 * gamma * P2\n",
    "dP2dt = ( ( alpha / 2 ) * ( P1 + 2 * P2 ) + beta ) * P1 - 2 * gamma * P2\n",
    "TI2 = dP1dt + 2 * dP2dt\n",
    "#dTI2dt = alpha*(P1+2*P2)*P0+((alpha/2)*(P1+2*P2)+beta-gamma)*P1 - 2*gamma*P2\n",
    "print(P1)\n",
    "print(P0)\n",
    "print(dP0dt)\n",
    "print(dP1dt)\n",
    "print(dP2dt)\n",
    "print(TI2)\n",
    "print(f'{dP0dt},{dP1dt},{dP2dt},{TI2}')\n",
    "print(f'{P0},{P1},{P2},{TI2}')\n"
   ]
  },
  {
   "cell_type": "code",
   "execution_count": 8,
   "metadata": {},
   "outputs": [
    {
     "name": "stdout",
     "output_type": "stream",
     "text": [
      "  message: The solver successfully reached the end of the integration interval.\n",
      "  success: True\n",
      "   status: 0\n",
      "        t: [ 0.000e+00  1.000e+00 ...  4.900e+01  5.000e+01]\n",
      "        y: [[ 9.800e-01  9.719e-01 ...  1.063e-01  1.063e-01]\n",
      "            [ 2.000e-02  2.440e-02 ...  3.749e-01  3.750e-01]\n",
      "            [ 0.000e+00  3.729e-03 ...  5.188e-01  5.187e-01]\n",
      "            [ 9.900e-03  2.176e-02 ...  1.402e+00  1.402e+00]]\n",
      "      sol: None\n",
      " t_events: None\n",
      " y_events: None\n",
      "     nfev: 170\n",
      "     njev: 0\n",
      "      nlu: 0\n"
     ]
    },
    {
     "name": "stderr",
     "output_type": "stream",
     "text": [
      "The PostScript backend does not support transparency; partially transparent artists will be rendered opaque.\n"
     ]
    },
    {
     "data": {
      "image/png": "[encoded data removed]",
      "text/plain": [
       "<Figure size 432x288 with 1 Axes>"
      ]
     },
     "metadata": {
      "needs_background": "light"
     },
     "output_type": "display_data"
    }
   ],
   "source": [
    "from scipy.integrate import solve_ivp\n",
    "import numpy as np\n",
    "import matplotlib.pyplot as plt\n",
    "def odes(t, P):\n",
    "    #constants\n",
    "    # these values are taken from page 3 dyson et.al \n",
    "    alpha = 0.5\n",
    "    beta = 0.2\n",
    "    gamma = 0.2\n",
    "    # assign each ODE to a vector element\n",
    "    P0 = P[0]\n",
    "    P1 = P[1]\n",
    "    P2 = P[2]\n",
    "    TI2 = P[3] # making expection rate as 4th vector with TI2 \n",
    "    # define each ODE\n",
    "    dP0dt = -alpha*(P1+2*P2)*P0 + gamma * P1\n",
    "    dP1dt = alpha*(P1+2*P2)*P0 - ((alpha/2)*(P1+2*P2)+beta+gamma)*P1 + 2 * gamma * P2\n",
    "    dP2dt = (alpha/2*(P1+2*P2)+beta)*P1 - 2 * gamma * P2\n",
    "    dTI2dt = dP1dt + 2 * dP2dt\n",
    "    #dexpIdt = alpha*(P1+2*P2)*P0+((alpha/2)*(P1+2*P2)+beta-gamma)*P1 - 2*gamma*P2\n",
    "    return np.array([dP0dt,dP1dt,dP2dt,dTI2dt])\n",
    "t_span = np.array([0,50])\n",
    "times = np.linspace(t_span[0],t_span[1],51)\n",
    "#intial conditions\n",
    "Pi = np.array([0.98,0.02,0,0.009899999999999999])\n",
    "\n",
    "\n",
    "sol = solve_ivp(odes,t_span,Pi,t_eval=times)\n",
    "print(sol)\n",
    "t = sol.t\n",
    "P0 = sol.y[0]# y not P\n",
    "P1 = sol.y[1]\n",
    "P2 = sol.y[2]\n",
    "TI2 = sol.y[3]\n",
    "\n",
    "plt.rc(\"font\",size=12)\n",
    "plt.figure()\n",
    "plt.text(1,2,'alpha = 0.5,beta = 0.2,gamma = 0.2', fontsize=12 )\n",
    "plt.semilogy(t,P0,':', label = 'P0')\n",
    "plt.semilogy(t,P1,'-', label = 'P1')\n",
    "plt.semilogy(t,P2,'--', label = 'P2')\n",
    "#plt.semilogy(t,TI2,'.', label = 'TI2')\n",
    "plt.xlabel(\"time\")\n",
    "plt.ylabel(\"Probability of Household state\")\n",
    "plt.legend()\n",
    "plt.savefig(\"021_g2.eps\")\n",
    "\n",
    "#plt.show()\n",
    "\n",
    "\n",
    "output_timeline021_g2 = open(\"output_timelineg021_g2.txt\",\"w\")\n",
    "\n",
    "for i in range(len(t)):\n",
    "    write_in = f\"time: {t[i]}, P0: {P0[i]}, P1: {P1[i]}, P2: {P2[i]}, TI2: {TI2[i]}\\n\"\n",
    "    output_timeline021_g2.write(write_in)\n",
    "    #print(f\"time: {t[i]}, P0: {P0[i]}, P1: {P1[i]}, P2: {P2[i]}, TI2: {TI2[i]}\")\n",
    "\n",
    "output_timeline021_g2.close()"
   ]
  },
  {
   "cell_type": "code",
   "execution_count": 1,
   "metadata": {},
   "outputs": [
    {
     "name": "stdout",
     "output_type": "stream",
     "text": [
      "0.02\n",
      "0.98\n",
      "-0.0077599999999999995\n",
      "0.003639999999999999\n",
      "0.00412\n",
      "0.01188\n",
      "-0.0077599999999999995,0.003639999999999999,0.00412,0.01188\n",
      "0.98,0.02,0,0.01188\n"
     ]
    }
   ],
   "source": [
    "alpha = 0.6\n",
    "beta = 0.2\n",
    "gamma = 0.2\n",
    "\n",
    "P1 = 12/600\n",
    "P2 = 0\n",
    "P0 = 1-P1-P2\n",
    "dP0dt = -alpha * ( P1 + 2 * P2 ) * P0 + gamma * P1 \n",
    "dP1dt = alpha*(P1+2*P2)*P0 - ( ( alpha / 2 ) * ( P1 + 2 * P2 ) + beta + gamma ) * P1 + 2 * gamma * P2\n",
    "dP2dt = ( ( alpha / 2 ) * ( P1 + 2 * P2 ) + beta ) * P1 - 2 * gamma * P2\n",
    "TI2 = dP1dt + 2 * dP2dt\n",
    "#dTI2dt = alpha*(P1+2*P2)*P0+((alpha/2)*(P1+2*P2)+beta-gamma)*P1 - 2*gamma*P2\n",
    "print(P1)\n",
    "print(P0)\n",
    "print(dP0dt)\n",
    "print(dP1dt)\n",
    "print(dP2dt)\n",
    "print(TI2)\n",
    "print(f'{dP0dt},{dP1dt},{dP2dt},{TI2}')\n",
    "print(f'{P0},{P1},{P2},{TI2}')"
   ]
  },
  {
   "cell_type": "code",
   "execution_count": null,
   "metadata": {},
   "outputs": [],
   "source": [
    "from scipy.integrate import solve_ivp\n",
    "import numpy as np\n",
    "import matplotlib.pyplot as plt\n",
    "def odes(t, P):\n",
    "    #constants\n",
    "    # these values are taken from page 3 dyson et.al \n",
    "    alpha = 0.5\n",
    "    beta = 0.2\n",
    "    gamma = 0.2\n",
    "    # assign each ODE to a vector element\n",
    "    P0 = P[0]\n",
    "    P1 = P[1]\n",
    "    P2 = P[2]\n",
    "    TI2 = P[3] # making expection rate as 4th vector with TI2 \n",
    "    # define each ODE\n",
    "    dP0dt = -alpha*(P1+2*P2)*P0 + gamma * P1\n",
    "    dP1dt = alpha*(P1+2*P2)*P0 - ((alpha/2)*(P1+2*P2)+beta+gamma)*P1 + 2 * gamma * P2\n",
    "    dP2dt = (alpha/2*(P1+2*P2)+beta)*P1 - 2 * gamma * P2\n",
    "    dTI2dt = dP1dt + 2 * dP2dt\n",
    "    #dexpIdt = alpha*(P1+2*P2)*P0+((alpha/2)*(P1+2*P2)+beta-gamma)*P1 - 2*gamma*P2\n",
    "    return np.array([dP0dt,dP1dt,dP2dt,dTI2dt])\n",
    "t_span = np.array([0,50])\n",
    "times = np.linspace(t_span[0],t_span[1],51)\n",
    "#intial conditions\n",
    "Pi = np.array([0.98,0.02,0,0.009899999999999999])\n",
    "\n",
    "\n",
    "sol = solve_ivp(odes,t_span,Pi,t_eval=times)\n",
    "print(sol)\n",
    "t = sol.t\n",
    "P0 = sol.y[0]# y not P\n",
    "P1 = sol.y[1]\n",
    "P2 = sol.y[2]\n",
    "TI2 = sol.y[3]\n",
    "\n",
    "plt.rc(\"font\",size=12)\n",
    "plt.figure()\n",
    "plt.text(1,2,'alpha = 0.5,beta = 0.2,gamma = 0.2', fontsize=12 )\n",
    "plt.semilogy(t,P0,':', label = 'P0')\n",
    "plt.semilogy(t,P1,'-', label = 'P1')\n",
    "plt.semilogy(t,P2,'--', label = 'P2')\n",
    "#plt.semilogy(t,TI2,'.', label = 'TI2')\n",
    "plt.xlabel(\"time\")\n",
    "plt.ylabel(\"Probability of Household state\")\n",
    "plt.legend()\n",
    "plt.savefig(\"021_g2.eps\")\n",
    "\n",
    "#plt.show()\n",
    "\n",
    "\n",
    "output_timeline021_g2 = open(\"output_timelineg021_g2.txt\",\"w\")\n",
    "\n",
    "for i in range(len(t)):\n",
    "    write_in = f\"time: {t[i]}, P0: {P0[i]}, P1: {P1[i]}, P2: {P2[i]}, TI2: {TI2[i]}\\n\"\n",
    "    output_timeline021_g2.write(write_in)\n",
    "    #print(f\"time: {t[i]}, P0: {P0[i]}, P1: {P1[i]}, P2: {P2[i]}, TI2: {TI2[i]}\")\n",
    "\n",
    "output_timeline021_g2.close()"
   ]
  },
  {
   "cell_type": "code",
   "execution_count": 3,
   "metadata": {},
   "outputs": [
    {
     "name": "stdout",
     "output_type": "stream",
     "text": [
      "0.02\n",
      "0.98\n",
      "-0.0077599999999999995\n",
      "0.003639999999999999\n",
      "0.00412\n",
      "0.01188\n",
      "-0.0077599999999999995,0.003639999999999999,0.00412,0.01188\n",
      "0.98,0.02,0,0.01188\n"
     ]
    }
   ],
   "source": [
    "alpha = 0.6\n",
    "beta = 0.2\n",
    "gamma = 0.2\n",
    "\n",
    "P1 = 12/600\n",
    "P2 = 0\n",
    "P0 = 1-P1-P2\n",
    "dP0dt = -alpha * ( P1 + 2 * P2 ) * P0 + gamma * P1 \n",
    "dP1dt = alpha*(P1+2*P2)*P0 - ( ( alpha / 2 ) * ( P1 + 2 * P2 ) + beta + gamma ) * P1 + 2 * gamma * P2\n",
    "dP2dt = ( ( alpha / 2 ) * ( P1 + 2 * P2 ) + beta ) * P1 - 2 * gamma * P2\n",
    "TI2 = dP1dt + 2 * dP2dt\n",
    "#dTI2dt = alpha*(P1+2*P2)*P0+((alpha/2)*(P1+2*P2)+beta-gamma)*P1 - 2*gamma*P2\n",
    "print(P1)\n",
    "print(P0)\n",
    "print(dP0dt)\n",
    "print(dP1dt)\n",
    "print(dP2dt)\n",
    "print(TI2)\n",
    "print(f'{dP0dt},{dP1dt},{dP2dt},{TI2}')\n",
    "print(f'{P0},{P1},{P2},{TI2}')"
   ]
  },
  {
   "cell_type": "code",
   "execution_count": 6,
   "metadata": {},
   "outputs": [
    {
     "name": "stdout",
     "output_type": "stream",
     "text": [
      "  message: The solver successfully reached the end of the integration interval.\n",
      "  success: True\n",
      "   status: 0\n",
      "        t: [ 0.000e+00  1.000e+00 ...  4.900e+01  5.000e+01]\n",
      "        y: [[ 9.800e-01  9.688e-01 ...  7.874e-02  7.872e-02]\n",
      "            [ 2.000e-02  2.719e-02 ...  3.518e-01  3.518e-01]\n",
      "            [ 0.000e+00  3.990e-03 ...  5.695e-01  5.695e-01]\n",
      "            [ 1.188e-02  2.705e-02 ...  1.483e+00  1.483e+00]]\n",
      "      sol: None\n",
      " t_events: None\n",
      " y_events: None\n",
      "     nfev: 182\n",
      "     njev: 0\n",
      "      nlu: 0\n"
     ]
    },
    {
     "name": "stderr",
     "output_type": "stream",
     "text": [
      "The PostScript backend does not support transparency; partially transparent artists will be rendered opaque.\n"
     ]
    },
    {
     "data": {
      "image/png": "[encoded data removed]",
      "text/plain": [
       "<Figure size 432x288 with 1 Axes>"
      ]
     },
     "metadata": {
      "needs_background": "light"
     },
     "output_type": "display_data"
    }
   ],
   "source": [
    "from scipy.integrate import solve_ivp\n",
    "import numpy as np\n",
    "import matplotlib.pyplot as plt\n",
    "def odes(t, P):\n",
    "    #constants\n",
    "    # these values are taken from page 3 dyson et.al \n",
    "    alpha = 0.6\n",
    "    beta = 0.2\n",
    "    gamma = 0.2\n",
    "    # assign each ODE to a vector element\n",
    "    P0 = P[0]\n",
    "    P1 = P[1]\n",
    "    P2 = P[2]\n",
    "    TI2 = P[3] # making expection rate as 4th vector with TI2 \n",
    "    # define each ODE\n",
    "    dP0dt = -alpha*(P1+2*P2)*P0 + gamma * P1\n",
    "    dP1dt = alpha*(P1+2*P2)*P0 - (alpha/2*(P1+2*P2)+beta+gamma)*P1 + 2 * gamma * P2\n",
    "    dP2dt = (alpha/2*(P1+2*P2)+beta)*P1 - 2 * gamma * P2\n",
    "    dTI2dt = dP1dt + 2 * dP2dt\n",
    "    #dexpIdt = alpha*(P1+2*P2)*P0+((alpha/2)*(P1+2*P2)+beta-gamma)*P1 - 2*gamma*P2\n",
    "    return np.array([dP0dt,dP1dt,dP2dt,dTI2dt])\n",
    "t_span = np.array([0,50])\n",
    "times = np.linspace(t_span[0],t_span[1],51)\n",
    "#intial conditions\n",
    "Pi = np.array([0.98,0.02,0,0.01188])\n",
    "\n",
    "\n",
    "sol = solve_ivp(odes,t_span,Pi,t_eval=times)\n",
    "print(sol)\n",
    "t = sol.t\n",
    "P0 = sol.y[0]# y not P\n",
    "P1 = sol.y[1]\n",
    "P2 = sol.y[2]\n",
    "TI2 = sol.y[3]\n",
    "\n",
    "plt.rc(\"font\",size=12)\n",
    "plt.figure()\n",
    "plt.text(1,2,'alpha = 0.6,beta = 0.2,gamma = 0.2', fontsize=12 )\n",
    "plt.semilogy(t,P0,':', label = 'P0')\n",
    "plt.semilogy(t,P1,'-', label = 'P1')\n",
    "plt.semilogy(t,P2,'--', label = 'P2')\n",
    "#plt.semilogy(t,TI2,'.', label = 'TI2')\n",
    "plt.xlabel(\"time\")\n",
    "plt.ylabel(\"Probability of Household state\")\n",
    "plt.legend()\n",
    "plt.savefig(\"031_g3.eps\")\n",
    "\n",
    "#plt.show()\n",
    "output_timeline031_g3 = open(\"output_timeline031_g3.txt\",\"w\")\n",
    "\n",
    "for i in range(len(t)):\n",
    "    write_in = f\"time: {t[i]}, P0: {P0[i]}, P1: {P1[i]}, P2: {P2[i]}, TI2: {TI2[i]}\\n\"\n",
    "    output_timeline031_g3.write(write_in)\n",
    "    #print(f\"time: {t[i]}, P0: {P0[i]}, P1: {P1[i]}, P2: {P2[i]}, TI2: {TI2[i]}\")\n",
    "output_timeline031_g3.close()"
   ]
  },
  {
   "cell_type": "code",
   "execution_count": 11,
   "metadata": {},
   "outputs": [
    {
     "name": "stdout",
     "output_type": "stream",
     "text": [
      "0.02\n",
      "0.98\n",
      "-0.01168\n",
      "0.007519999999999999\n",
      "0.0041600000000000005\n",
      "0.01584\n",
      "-0.01168,0.007519999999999999,0.0041600000000000005,0.01584\n",
      "0.98,0.02,0,0.01584\n"
     ]
    }
   ],
   "source": [
    "alpha = 0.8\n",
    "beta = 0.2\n",
    "gamma = 0.2\n",
    "\n",
    "P1 = 12/600\n",
    "P2 = 0\n",
    "P0 = 1-P1-P2\n",
    "dP0dt = -alpha * ( P1 + 2 * P2 ) * P0 + gamma * P1 \n",
    "dP1dt = alpha*(P1+2*P2)*P0 - ( ( alpha / 2 ) * ( P1 + 2 * P2 ) + beta + gamma ) * P1 + 2 * gamma * P2\n",
    "dP2dt = ( ( alpha / 2 ) * ( P1 + 2 * P2 ) + beta ) * P1 - 2 * gamma * P2\n",
    "TI2 = dP1dt + 2 * dP2dt\n",
    "#dTI2dt = alpha*(P1+2*P2)*P0+((alpha/2)*(P1+2*P2)+beta-gamma)*P1 - 2*gamma*P2\n",
    "print(P1)\n",
    "print(P0)\n",
    "print(dP0dt)\n",
    "print(dP1dt)\n",
    "print(dP2dt)\n",
    "print(TI2)\n",
    "print(f'{dP0dt},{dP1dt},{dP2dt},{TI2}')\n",
    "print(f'{P0},{P1},{P2},{TI2}')"
   ]
  },
  {
   "cell_type": "code",
   "execution_count": 12,
   "metadata": {},
   "outputs": [
    {
     "name": "stdout",
     "output_type": "stream",
     "text": [
      "  message: The solver successfully reached the end of the integration interval.\n",
      "  success: True\n",
      "   status: 0\n",
      "        t: [ 0.000e+00  1.000e+00 ...  4.900e+01  5.000e+01]\n",
      "        y: [[ 9.800e-01  9.618e-01 ...  4.816e-02  4.816e-02]\n",
      "            [ 2.000e-02  3.365e-02 ...  3.074e-01  3.074e-01]\n",
      "            [ 0.000e+00  4.591e-03 ...  6.445e-01  6.445e-01]\n",
      "            [ 1.584e-02  3.867e-02 ...  1.592e+00  1.592e+00]]\n",
      "      sol: None\n",
      " t_events: None\n",
      " y_events: None\n",
      "     nfev: 218\n",
      "     njev: 0\n",
      "      nlu: 0\n"
     ]
    },
    {
     "name": "stderr",
     "output_type": "stream",
     "text": [
      "The PostScript backend does not support transparency; partially transparent artists will be rendered opaque.\n"
     ]
    },
    {
     "data": {
      "image/png": "[encoded data removed]",
      "text/plain": [
       "<Figure size 432x288 with 1 Axes>"
      ]
     },
     "metadata": {
      "needs_background": "light"
     },
     "output_type": "display_data"
    }
   ],
   "source": [
    "from scipy.integrate import solve_ivp\n",
    "import numpy as np\n",
    "import matplotlib.pyplot as plt\n",
    "def odes(t, P):\n",
    "    #constants\n",
    "    # these values are taken from page 3 dyson et.al \n",
    "    alpha = 0.8\n",
    "    beta = 0.2\n",
    "    gamma = 0.2\n",
    "    # assign each ODE to a vector element\n",
    "    P0 = P[0]\n",
    "    P1 = P[1]\n",
    "    P2 = P[2]\n",
    "    TI2 = P[3] # making expection rate as 4th vector with TI2 \n",
    "    # define each ODE\n",
    "    dP0dt = -alpha*(P1+2*P2)*P0 + gamma * P1\n",
    "    dP1dt = alpha*(P1+2*P2)*P0 - (alpha/2*(P1+2*P2)+beta+gamma)*P1 + 2 * gamma * P2\n",
    "    dP2dt = (alpha/2*(P1+2*P2)+beta)*P1 - 2 * gamma * P2\n",
    "    dTI2dt = dP1dt + 2 * dP2dt\n",
    "    #dexpIdt = alpha*(P1+2*P2)*P0+((alpha/2)*(P1+2*P2)+beta-gamma)*P1 - 2*gamma*P2\n",
    "    return np.array([dP0dt,dP1dt,dP2dt,dTI2dt])\n",
    "t_span = np.array([0,50])\n",
    "times = np.linspace(t_span[0],t_span[1],51)\n",
    "#intial conditions\n",
    "Pi = np.array([0.98,0.02,0,0.01584])\n",
    "\n",
    "\n",
    "sol = solve_ivp(odes,t_span,Pi,t_eval=times)\n",
    "print(sol)\n",
    "t = sol.t\n",
    "P0 = sol.y[0]# y not P\n",
    "P1 = sol.y[1]\n",
    "P2 = sol.y[2]\n",
    "TI2 = sol.y[3]\n",
    "\n",
    "plt.rc(\"font\",size=12)\n",
    "plt.figure()\n",
    "plt.text(1,2,'alpha = 0.8,beta = 0.2,gamma = 0.2', fontsize=12 )\n",
    "plt.semilogy(t,P0,':', label = 'P0')\n",
    "plt.semilogy(t,P1,'-', label = 'P1')\n",
    "plt.semilogy(t,P2,'--', label = 'P2')\n",
    "#plt.semilogy(t,TI2,'.', label = 'TI2')\n",
    "plt.xlabel(\"time\")\n",
    "plt.ylabel(\"Probability of Household state\")\n",
    "plt.legend()\n",
    "plt.savefig(\"041_g5.eps\")\n",
    "\n",
    "#plt.show()\n",
    "\n",
    "output_timeline041_g5 = open(\"output_timeline041_g5.txt\",\"w\")\n",
    "\n",
    "for i in range(len(t)):\n",
    "    write_in = f\"time: {t[i]}, P0: {P0[i]}, P1: {P1[i]}, P2: {P2[i]}, TI2: {TI2[i]}\\n\"\n",
    "    output_timeline041_g5.write(write_in)\n",
    "    #print(f\"time: {t[i]}, P0: {P0[i]}, P1: {P1[i]}, P2: {P2[i]}, TI2: {TI2[i]}\")\n",
    "\n",
    "output_timeline041_g5.close()"
   ]
  },
  {
   "cell_type": "code",
   "execution_count": 13,
   "metadata": {},
   "outputs": [
    {
     "name": "stdout",
     "output_type": "stream",
     "text": [
      "0.02\n",
      "0.98\n",
      "-0.0038399999999999997\n",
      "-0.0022400000000000007\n",
      "0.00608\n",
      "0.00992\n",
      "-0.0038399999999999997,-0.0022400000000000007,0.00608,0.00992\n",
      "0.98,0.02,0,0.00992\n"
     ]
    }
   ],
   "source": [
    "alpha = 0.4\n",
    "beta = 0.3\n",
    "gamma = 0.2\n",
    "\n",
    "P1 = 12/600\n",
    "P2 = 0\n",
    "P0 = 1-P1-P2\n",
    "dP0dt = - alpha * ( P1 + 2 * P2 ) * P0 + gamma * P1 \n",
    "dP1dt = alpha*(P1+2*P2)*P0 - ( ( alpha / 2 ) * ( P1 + 2 * P2 ) + beta + gamma ) * P1 + 2 * gamma * P2\n",
    "dP2dt = ( ( alpha / 2 ) * ( P1 + 2 * P2 ) + beta ) * P1 - 2 * gamma * P2\n",
    "TI2 = dP1dt + 2 * dP2dt\n",
    "#dTI2dt = alpha*(P1+2*P2)*P0+((alpha/2)*(P1+2*P2)+beta-gamma)*P1 - 2*gamma*P2\n",
    "print(P1)\n",
    "print(P0)\n",
    "print(dP0dt)\n",
    "print(dP1dt)\n",
    "print(dP2dt)\n",
    "print(TI2)\n",
    "print(f'{dP0dt},{dP1dt},{dP2dt},{TI2}')\n",
    "print(f'{P0},{P1},{P2},{TI2}')"
   ]
  },
  {
   "cell_type": "code",
   "execution_count": 14,
   "metadata": {},
   "outputs": [
    {
     "name": "stdout",
     "output_type": "stream",
     "text": [
      "  message: The solver successfully reached the end of the integration interval.\n",
      "  success: True\n",
      "   status: 0\n",
      "        t: [ 0.000e+00  1.000e+00 ...  4.900e+01  5.000e+01]\n",
      "        y: [[ 9.800e-01  9.741e-01 ...  1.288e-01  1.287e-01]\n",
      "            [ 2.000e-02  2.086e-02 ...  3.564e-01  3.566e-01]\n",
      "            [ 0.000e+00  5.026e-03 ...  5.149e-01  5.147e-01]\n",
      "            [ 9.920e-03  2.083e-02 ...  1.376e+00  1.376e+00]]\n",
      "      sol: None\n",
      " t_events: None\n",
      " y_events: None\n",
      "     nfev: 164\n",
      "     njev: 0\n",
      "      nlu: 0\n"
     ]
    },
    {
     "name": "stderr",
     "output_type": "stream",
     "text": [
      "The PostScript backend does not support transparency; partially transparent artists will be rendered opaque.\n"
     ]
    },
    {
     "data": {
      "image/png": "[encoded data removed]",
      "text/plain": [
       "<Figure size 432x288 with 1 Axes>"
      ]
     },
     "metadata": {
      "needs_background": "light"
     },
     "output_type": "display_data"
    }
   ],
   "source": [
    "from scipy.integrate import solve_ivp\n",
    "import numpy as np\n",
    "import matplotlib.pyplot as plt\n",
    "def odes(t, P):\n",
    "    #constants\n",
    "    # these values are taken from page 3 dyson et.al \n",
    "    alpha = 0.4\n",
    "    beta = 0.3\n",
    "    gamma = 0.2\n",
    "    # assign each ODE to a vector element\n",
    "    P0 = P[0]\n",
    "    P1 = P[1]\n",
    "    P2 = P[2]\n",
    "    TI2 = P[3] # making expection rate as 4th vector with TI2 \n",
    "    # define each ODE\n",
    "    dP0dt = -alpha*(P1+2*P2)*P0 + gamma * P1\n",
    "    dP1dt = alpha*(P1+2*P2)*P0 - (alpha/2*(P1+2*P2)+beta+gamma)*P1 + 2 * gamma * P2\n",
    "    dP2dt = (alpha/2*(P1+2*P2)+beta)*P1 - 2 * gamma * P2\n",
    "    dTI2dt = dP1dt + 2 * dP2dt\n",
    "    #dexpIdt = alpha*(P1+2*P2)*P0+((alpha/2)*(P1+2*P2)+beta-gamma)*P1 - 2*gamma*P2\n",
    "    return np.array([dP0dt,dP1dt,dP2dt,dTI2dt])\n",
    "t_span = np.array([0,50])\n",
    "times = np.linspace(t_span[0],t_span[1],51)\n",
    "#intial conditions\n",
    "Pi = np.array([0.98,0.02,0,0.00992])\n",
    "\n",
    "\n",
    "sol = solve_ivp(odes,t_span,Pi,t_eval=times)\n",
    "print(sol)\n",
    "t = sol.t\n",
    "P0 = sol.y[0]# y not P\n",
    "P1 = sol.y[1]\n",
    "P2 = sol.y[2]\n",
    "TI2 = sol.y[3]\n",
    "\n",
    "plt.rc(\"font\",size=12)\n",
    "plt.figure()\n",
    "plt.text(1,2,'alpha = 0.4,beta = 0.3,gamma = 0.2', fontsize=12 )\n",
    "plt.semilogy(t,P0,':', label = 'P0')\n",
    "plt.semilogy(t,P1,'-', label = 'P1')\n",
    "plt.semilogy(t,P2,'--', label = 'P2')\n",
    "#plt.semilogy(t,TI2,'.', label = 'TI2')\n",
    "plt.xlabel(\"time\")\n",
    "plt.ylabel(\"Probability of Household state\")\n",
    "plt.legend()\n",
    "plt.savefig(\"022_g6.eps\")\n",
    "\n",
    "#plt.show()\n",
    "\n",
    "output_timeline022_g6 = open(\"output_timeline022_g6.txt\",\"w\")\n",
    "\n",
    "for i in range(len(t)):\n",
    "    write_in = f\"time: {t[i]}, P0: {P0[i]}, P1: {P1[i]}, P2: {P2[i]}, TI2: {TI2[i]}\\n\"\n",
    "    output_timeline022_g6.write(write_in)\n",
    "    #print(f\"time: {t[i]}, P0: {P0[i]}, P1: {P1[i]}, P2: {P2[i]}, TI2: {TI2[i]}\")\n",
    "\n",
    "output_timeline022_g6.close()"
   ]
  },
  {
   "cell_type": "code",
   "execution_count": 15,
   "metadata": {},
   "outputs": [
    {
     "name": "stdout",
     "output_type": "stream",
     "text": [
      "0.02\n",
      "0.98\n",
      "-0.0038399999999999997\n",
      "-0.0042400000000000024\n",
      "0.00808\n",
      "0.011919999999999998\n",
      "-0.0038399999999999997,-0.0042400000000000024,0.00808,0.011919999999999998\n",
      "0.98,0.02,0,0.011919999999999998\n"
     ]
    }
   ],
   "source": [
    "alpha = 0.4\n",
    "gamma = 0.2\n",
    "beta = 0.4\n",
    "\n",
    "P1 = 12/600\n",
    "P2 = 0\n",
    "P0 = 1-P1-P2\n",
    "dP0dt = -alpha * ( P1 + 2 * P2 ) * P0 + gamma * P1 \n",
    "dP1dt = alpha*(P1+2*P2)*P0 - ( ( alpha / 2 ) * ( P1 + 2 * P2 ) + beta + gamma ) * P1 + 2 * gamma * P2\n",
    "dP2dt = ( ( alpha / 2 ) * ( P1 + 2 * P2 ) + beta ) * P1 - 2 * gamma * P2\n",
    "TI2 = dP1dt + 2 * dP2dt\n",
    "#dTI2dt = alpha*(P1+2*P2)*P0+((alpha/2)*(P1+2*P2)+beta-gamma)*P1 - 2*gamma*P2\n",
    "print(P1)\n",
    "print(P0)\n",
    "print(dP0dt)\n",
    "print(dP1dt)\n",
    "print(dP2dt)\n",
    "print(TI2)\n",
    "print(f'{dP0dt},{dP1dt},{dP2dt},{TI2}')\n",
    "print(f'{P0},{P1},{P2},{TI2}')"
   ]
  },
  {
   "cell_type": "code",
   "execution_count": 16,
   "metadata": {},
   "outputs": [
    {
     "name": "stdout",
     "output_type": "stream",
     "text": [
      "  message: The solver successfully reached the end of the integration interval.\n",
      "  success: True\n",
      "   status: 0\n",
      "        t: [ 0.000e+00  1.000e+00 ...  4.900e+01  5.000e+01]\n",
      "        y: [[ 9.800e-01  9.736e-01 ...  1.124e-01  1.124e-01]\n",
      "            [ 2.000e-02  1.992e-02 ...  3.256e-01  3.256e-01]\n",
      "            [ 0.000e+00  6.461e-03 ...  5.620e-01  5.619e-01]\n",
      "            [ 1.192e-02  2.476e-02 ...  1.441e+00  1.441e+00]]\n",
      "      sol: None\n",
      " t_events: None\n",
      " y_events: None\n",
      "     nfev: 188\n",
      "     njev: 0\n",
      "      nlu: 0\n"
     ]
    },
    {
     "name": "stderr",
     "output_type": "stream",
     "text": [
      "The PostScript backend does not support transparency; partially transparent artists will be rendered opaque.\n"
     ]
    },
    {
     "data": {
      "image/png": "[encoded data removed]",
      "text/plain": [
       "<Figure size 432x288 with 1 Axes>"
      ]
     },
     "metadata": {
      "needs_background": "light"
     },
     "output_type": "display_data"
    }
   ],
   "source": [
    "from scipy.integrate import solve_ivp\n",
    "import numpy as np\n",
    "import matplotlib.pyplot as plt\n",
    "def odes(t, P):\n",
    "    #constants\n",
    "    # these values are taken from page 3 dyson et.al \n",
    "    alpha = 0.4\n",
    "    beta = 0.4\n",
    "    gamma = 0.2\n",
    "    # assign each ODE to a vector element\n",
    "    P0 = P[0]\n",
    "    P1 = P[1]\n",
    "    P2 = P[2]\n",
    "    TI2 = P[3] # making expection rate as 4th vector with TI2 \n",
    "    # define each ODE\n",
    "    dP0dt = -alpha*(P1+2*P2)*P0 + gamma * P1\n",
    "    dP1dt = alpha*(P1+2*P2)*P0 - (alpha/2*(P1+2*P2)+beta+gamma)*P1 + 2 * gamma * P2\n",
    "    dP2dt = (alpha/2*(P1+2*P2)+beta)*P1 - 2 * gamma * P2\n",
    "    dTI2dt = dP1dt + 2 * dP2dt\n",
    "    #dexpIdt = alpha*(P1+2*P2)*P0+((alpha/2)*(P1+2*P2)+beta-gamma)*P1 - 2*gamma*P2\n",
    "    return np.array([dP0dt,dP1dt,dP2dt,dTI2dt])\n",
    "t_span = np.array([0,50])\n",
    "times = np.linspace(t_span[0],t_span[1],51)\n",
    "#intial conditions\n",
    "Pi = np.array([0.98,0.02,0,0.011919999999999998])\n",
    "\n",
    "\n",
    "sol = solve_ivp(odes,t_span,Pi,t_eval=times)\n",
    "print(sol)\n",
    "t = sol.t\n",
    "P0 = sol.y[0]# y not P\n",
    "P1 = sol.y[1]\n",
    "P2 = sol.y[2]\n",
    "TI2 = sol.y[3]\n",
    "\n",
    "plt.rc(\"font\",size=12)\n",
    "plt.figure()\n",
    "plt.text(1,2,'alpha = 0.4,beta = 0.4,gamma = 0.2', fontsize=12 )\n",
    "plt.semilogy(t,P0,':', label = 'P0')\n",
    "plt.semilogy(t,P1,'-', label = 'P1')\n",
    "plt.semilogy(t,P2,'--', label = 'P2')\n",
    "#plt.semilogy(t,TI2,'.', label = 'TI2')\n",
    "plt.xlabel(\"time\")\n",
    "plt.ylabel(\"Probability of Household state\")\n",
    "plt.legend()\n",
    "plt.savefig(\"032_g11.eps\")\n",
    "\n",
    "#plt.show()\n",
    "\n",
    "output_timeline032_g11 = open(\"output_timeline032_g11.txt\",\"w\")\n",
    "\n",
    "for i in range(len(t)):\n",
    "    write_in = f\"time: {t[i]}, P0: {P0[i]}, P1: {P1[i]}, P2: {P2[i]}, TI2: {TI2[i]}\\n\"\n",
    "    output_timeline032_g11.write(write_in)\n",
    "    #print(f\"time: {t[i]}, P0: {P0[i]}, P1: {P1[i]}, P2: {P2[i]}, TI2: {TI2[i]}\")\n",
    "\n",
    "output_timeline032_g11.close()"
   ]
  },
  {
   "cell_type": "code",
   "execution_count": 17,
   "metadata": {},
   "outputs": [
    {
     "name": "stdout",
     "output_type": "stream",
     "text": [
      "0.02\n",
      "0.98\n",
      "-0.0038399999999999997\n",
      "-0.006239999999999999\n",
      "0.01008\n",
      "0.013920000000000002\n",
      "-0.0038399999999999997,-0.006239999999999999,0.01008,0.013920000000000002\n",
      "0.98,0.02,0,0.013920000000000002\n"
     ]
    }
   ],
   "source": [
    "alpha = 0.4\n",
    "beta = 0.5\n",
    "gamma = 0.2\n",
    "\n",
    "P1 = 12/600\n",
    "P2 = 0\n",
    "P0 = 1-P1-P2\n",
    "dP0dt = -alpha * ( P1 + 2 * P2 ) * P0 + gamma * P1 \n",
    "dP1dt = alpha*(P1+2*P2)*P0 - ( ( alpha / 2 ) * ( P1 + 2 * P2 ) + beta + gamma ) * P1 + 2 * gamma * P2\n",
    "dP2dt = ( ( alpha / 2 ) * ( P1 + 2 * P2 ) + beta ) * P1 - 2 * gamma * P2\n",
    "TI2 = dP1dt + 2 * dP2dt\n",
    "#dTI2dt = alpha*(P1+2*P2)*P0+((alpha/2)*(P1+2*P2)+beta-gamma)*P1 - 2*gamma*P2\n",
    "print(P1)\n",
    "print(P0)\n",
    "print(dP0dt)\n",
    "print(dP1dt)\n",
    "print(dP2dt)\n",
    "print(TI2)\n",
    "print(f'{dP0dt},{dP1dt},{dP2dt},{TI2}')\n",
    "print(f'{P0},{P1},{P2},{TI2}')"
   ]
  },
  {
   "cell_type": "code",
   "execution_count": 18,
   "metadata": {},
   "outputs": [
    {
     "name": "stdout",
     "output_type": "stream",
     "text": [
      "  message: The solver successfully reached the end of the integration interval.\n",
      "  success: True\n",
      "   status: 0\n",
      "        t: [ 0.000e+00  1.000e+00 ...  4.900e+01  5.000e+01]\n",
      "        y: [[ 9.800e-01  9.732e-01 ...  9.998e-02  1.001e-01]\n",
      "            [ 2.000e-02  1.905e-02 ...  3.001e-01  2.998e-01]\n",
      "            [ 0.000e+00  7.804e-03 ...  5.999e-01  6.001e-01]\n",
      "            [ 1.392e-02  2.857e-02 ...  1.494e+00  1.494e+00]]\n",
      "      sol: None\n",
      " t_events: None\n",
      " y_events: None\n",
      "     nfev: 194\n",
      "     njev: 0\n",
      "      nlu: 0\n"
     ]
    },
    {
     "name": "stderr",
     "output_type": "stream",
     "text": [
      "The PostScript backend does not support transparency; partially transparent artists will be rendered opaque.\n"
     ]
    },
    {
     "data": {
      "image/png": "[encoded data removed]",
      "text/plain": [
       "<Figure size 432x288 with 1 Axes>"
      ]
     },
     "metadata": {
      "needs_background": "light"
     },
     "output_type": "display_data"
    }
   ],
   "source": [
    "from scipy.integrate import solve_ivp\n",
    "import numpy as np\n",
    "import matplotlib.pyplot as plt\n",
    "def odes(t, P):\n",
    "    #constants\n",
    "    # these values are taken from page 3 dyson et.al \n",
    "    alpha = 0.4\n",
    "    beta = 0.5\n",
    "    gamma = 0.2\n",
    "    # assign each ODE to a vector element\n",
    "    P0 = P[0]\n",
    "    P1 = P[1]\n",
    "    P2 = P[2]\n",
    "    TI2 = P[3] # making expection rate as 4th vector with TI2 \n",
    "    # define each ODE\n",
    "    dP0dt = -alpha*(P1+2*P2)*P0 + gamma * P1\n",
    "    dP1dt = alpha*(P1+2*P2)*P0 - (alpha/2*(P1+2*P2)+beta+gamma)*P1 + 2 * gamma * P2\n",
    "    dP2dt = (alpha/2*(P1+2*P2)+beta)*P1 - 2 * gamma * P2\n",
    "    dTI2dt = dP1dt + 2 * dP2dt\n",
    "    #dexpIdt = alpha*(P1+2*P2)*P0+((alpha/2)*(P1+2*P2)+beta-gamma)*P1 - 2*gamma*P2\n",
    "    return np.array([dP0dt,dP1dt,dP2dt,dTI2dt])\n",
    "t_span = np.array([0,50])\n",
    "times = np.linspace(t_span[0],t_span[1],51)\n",
    "#intial conditions\n",
    "Pi = np.array([0.98,0.02,0,0.013920000000000002])\n",
    "\n",
    "\n",
    "sol = solve_ivp(odes,t_span,Pi,t_eval=times)\n",
    "print(sol)\n",
    "t = sol.t\n",
    "P0 = sol.y[0]# y not P\n",
    "P1 = sol.y[1]\n",
    "P2 = sol.y[2]\n",
    "TI2 = sol.y[3]\n",
    "\n",
    "plt.rc(\"font\",size=12)\n",
    "plt.figure()\n",
    "plt.text(1,2,'alpha = 0.4,beta = 0.5,gamma = 0.2', fontsize=12 )\n",
    "plt.semilogy(t,P0,':', label = 'P0')\n",
    "plt.semilogy(t,P1,'-', label = 'P1')\n",
    "plt.semilogy(t,P2,'--', label = 'P2')\n",
    "#plt.semilogy(t,TI2,'.', label = 'TI2')\n",
    "plt.xlabel(\"time\")\n",
    "plt.ylabel(\"Probability of Household state\")\n",
    "plt.legend()\n",
    "plt.savefig(\"042_g16.eps\")\n",
    "\n",
    "#plt.show()\n",
    "\n",
    "output_timeline042_g16 = open(\"output_timeline042_g16.txt\",\"w\")\n",
    "\n",
    "for i in range(len(t)):\n",
    "    write_in = f\"time: {t[i]}, P0: {P0[i]}, P1: {P1[i]}, P2: {P2[i]}, TI2: {TI2[i]}\\n\"\n",
    "    output_timeline042_g16.write(write_in)\n",
    "    #print(f\"time: {t[i]}, P0: {P0[i]}, P1: {P1[i]}, P2: {P2[i]}, TI2: {TI2[i]}\")\n",
    "\n",
    "output_timeline042_g16.close()"
   ]
  },
  {
   "cell_type": "code",
   "execution_count": 19,
   "metadata": {},
   "outputs": [
    {
     "name": "stdout",
     "output_type": "stream",
     "text": [
      "0.02\n",
      "0.98\n",
      "-0.0018399999999999996\n",
      "-0.0022400000000000007\n",
      "0.00408\n",
      "0.00592\n",
      "-0.0018399999999999996,-0.0022400000000000007,0.00408,0.00592\n",
      "0.98,0.02,0,0.00592\n"
     ]
    }
   ],
   "source": [
    "alpha = 0.4\n",
    "beta = 0.2\n",
    "gamma = 0.3\n",
    "\n",
    "P1 = 12/600\n",
    "P2 = 0\n",
    "P0 = 1-P1-P2\n",
    "dP0dt = -alpha * ( P1 + 2 * P2 ) * P0 + gamma * P1 \n",
    "dP1dt = alpha*(P1+2*P2)*P0 - ( ( alpha / 2 ) * ( P1 + 2 * P2 ) + beta + gamma ) * P1 + 2 * gamma * P2\n",
    "dP2dt = ( ( alpha / 2 ) * ( P1 + 2 * P2 ) + beta ) * P1 - 2 * gamma * P2\n",
    "TI2 = dP1dt + 2 * dP2dt\n",
    "#dTI2dt = alpha*(P1+2*P2)*P0+((alpha/2)*(P1+2*P2)+beta-gamma)*P1 - 2*gamma*P2\n",
    "print(P1)\n",
    "print(P0)\n",
    "print(dP0dt)\n",
    "print(dP1dt)\n",
    "print(dP2dt)\n",
    "print(TI2)\n",
    "print(f'{dP0dt},{dP1dt},{dP2dt},{TI2}')\n",
    "print(f'{P0},{P1},{P2},{TI2}')"
   ]
  },
  {
   "cell_type": "code",
   "execution_count": 20,
   "metadata": {},
   "outputs": [
    {
     "name": "stdout",
     "output_type": "stream",
     "text": [
      "  message: The solver successfully reached the end of the integration interval.\n",
      "  success: True\n",
      "   status: 0\n",
      "        t: [ 0.000e+00  1.000e+00 ...  5.900e+01  6.000e+01]\n",
      "        y: [[ 9.800e-01  9.769e-01 ...  3.275e-01  3.274e-01]\n",
      "            [ 2.000e-02  2.007e-02 ...  4.086e-01  4.086e-01]\n",
      "            [ 0.000e+00  3.032e-03 ...  2.640e-01  2.639e-01]\n",
      "            [ 5.920e-03  1.205e-02 ...  9.224e-01  9.224e-01]]\n",
      "      sol: None\n",
      " t_events: None\n",
      " y_events: None\n",
      "     nfev: 170\n",
      "     njev: 0\n",
      "      nlu: 0\n"
     ]
    },
    {
     "name": "stderr",
     "output_type": "stream",
     "text": [
      "The PostScript backend does not support transparency; partially transparent artists will be rendered opaque.\n"
     ]
    },
    {
     "data": {
      "image/png": "[encoded data removed]",
      "text/plain": [
       "<Figure size 432x288 with 1 Axes>"
      ]
     },
     "metadata": {
      "needs_background": "light"
     },
     "output_type": "display_data"
    }
   ],
   "source": [
    "from scipy.integrate import solve_ivp\n",
    "import numpy as np\n",
    "import matplotlib.pyplot as plt\n",
    "def odes(t, P):\n",
    "    #constants\n",
    "    # these values are taken from page 3 dyson et.al \n",
    "    alpha = 0.4\n",
    "    beta = 0.2\n",
    "    gamma = 0.3\n",
    "    # assign each ODE to a vector element\n",
    "    P0 = P[0]\n",
    "    P1 = P[1]\n",
    "    P2 = P[2]\n",
    "    TI2 = P[3] # making expection rate as 4th vector with TI2 \n",
    "    # define each ODE\n",
    "    dP0dt = -alpha*(P1+2*P2)*P0 + gamma * P1\n",
    "    dP1dt = alpha*(P1+2*P2)*P0 - (alpha/2*(P1+2*P2)+beta+gamma)*P1 + 2 * gamma * P2\n",
    "    dP2dt = (alpha/2*(P1+2*P2)+beta)*P1 - 2 * gamma * P2\n",
    "    dTI2dt = dP1dt + 2 * dP2dt\n",
    "    #dexpIdt = alpha*(P1+2*P2)*P0+((alpha/2)*(P1+2*P2)+beta-gamma)*P1 - 2*gamma*P2\n",
    "    return np.array([dP0dt,dP1dt,dP2dt,dTI2dt])\n",
    "t_span = np.array([0,60])\n",
    "times = np.linspace(t_span[0],t_span[1],61)\n",
    "#intial conditions\n",
    "Pi = np.array([0.98,0.02,0,0.00592])\n",
    "\n",
    "sol = solve_ivp(odes,t_span,Pi,t_eval=times)\n",
    "print(sol)\n",
    "t = sol.t\n",
    "P0 = sol.y[0]# y not P\n",
    "P1 = sol.y[1]\n",
    "P2 = sol.y[2]\n",
    "TI2 = sol.y[3]\n",
    "\n",
    "plt.rc(\"font\",size=12)\n",
    "plt.figure()\n",
    "plt.text(1,2,'alpha = 0.4,beta = 0.2,gamma = 0.3', fontsize=12 )\n",
    "plt.semilogy(t,P0,':', label = 'P0')\n",
    "plt.semilogy(t,P1,'-', label = 'P1')\n",
    "plt.semilogy(t,P2,'--', label = 'P2')\n",
    "#plt.semilogy(t,TI2,'.', label = 'TI2')\n",
    "plt.xlabel(\"time\")\n",
    "plt.ylabel(\"Probability of Household state\")\n",
    "plt.legend()\n",
    "plt.savefig(\"023_b6.eps\")\n",
    "\n",
    "#plt.show()\n",
    "\n",
    "output_timeline023_b6 = open(\"output_timeline023_b6.txt\",\"w\")\n",
    "\n",
    "for i in range(len(t)):\n",
    "    write_in = f\"time: {t[i]}, P0: {P0[i]}, P1: {P1[i]}, P2: {P2[i]}, TI2: {TI2[i]}\\n\"\n",
    "    output_timeline023_b6.write(write_in)\n",
    "    #print(f\"time: {t[i]}, P0: {P0[i]}, P1: {P1[i]}, P2: {P2[i]}, TI2: {TI2[i]}\")\n",
    "output_timeline023_b6.close()"
   ]
  },
  {
   "cell_type": "code",
   "execution_count": 21,
   "metadata": {},
   "outputs": [
    {
     "name": "stdout",
     "output_type": "stream",
     "text": [
      "0.02\n",
      "0.98\n",
      "0.00016000000000000042\n",
      "-0.0042400000000000024\n",
      "0.00408\n",
      "0.003919999999999998\n",
      "0.00016000000000000042,-0.0042400000000000024,0.00408,0.003919999999999998\n",
      "0.98,0.02,0,0.003919999999999998\n"
     ]
    }
   ],
   "source": [
    "alpha = 0.4\n",
    "gamma = 0.4\n",
    "beta = 0.2\n",
    "\n",
    "P1 = 12/600\n",
    "P2 = 0\n",
    "P0 = 1-P1-P2\n",
    "dP0dt = - alpha*(P1+2*P2)*P0 + gamma * P1 \n",
    "dP1dt = alpha*(P1+2*P2)*P0 - ((alpha/2)*(P1+2*P2)+beta+gamma)*P1 + 2 * gamma * P2\n",
    "dP2dt = ((alpha/2)*(P1+2*P2)+beta)*P1 - 2 * gamma * P2\n",
    "TI2 = dP1dt + 2 * dP2dt\n",
    "#dTI2dt = alpha*(P1+2*P2)*P0+((alpha/2)*(P1+2*P2)+beta-gamma)*P1 - 2*gamma*P2\n",
    "print(P1)\n",
    "print(P0)\n",
    "print(dP0dt)\n",
    "print(dP1dt)\n",
    "print(dP2dt)\n",
    "print(TI2)\n",
    "print(f'{dP0dt},{dP1dt},{dP2dt},{TI2}')\n",
    "print(f'{P0},{P1},{P2},{TI2}')"
   ]
  },
  {
   "cell_type": "code",
   "execution_count": 22,
   "metadata": {},
   "outputs": [
    {
     "name": "stdout",
     "output_type": "stream",
     "text": [
      "  message: The solver successfully reached the end of the integration interval.\n",
      "  success: True\n",
      "   status: 0\n",
      "        t: [ 0.000e+00  1.000e+00 ...  9.900e+01  1.000e+02]\n",
      "        y: [[ 9.800e-01  9.790e-01 ...  5.616e-01  5.616e-01]\n",
      "            [ 2.000e-02  1.840e-02 ...  3.154e-01  3.151e-01]\n",
      "            [ 0.000e+00  2.636e-03 ...  1.231e-01  1.232e-01]\n",
      "            [ 3.920e-03  7.591e-03 ...  5.455e-01  5.455e-01]]\n",
      "      sol: None\n",
      " t_events: None\n",
      " y_events: None\n",
      "     nfev: 272\n",
      "     njev: 0\n",
      "      nlu: 0\n"
     ]
    },
    {
     "name": "stderr",
     "output_type": "stream",
     "text": [
      "The PostScript backend does not support transparency; partially transparent artists will be rendered opaque.\n"
     ]
    },
    {
     "data": {
      "image/png": "[encoded data removed]",
      "text/plain": [
       "<Figure size 432x288 with 1 Axes>"
      ]
     },
     "metadata": {
      "needs_background": "light"
     },
     "output_type": "display_data"
    }
   ],
   "source": [
    "3# fig 2 pg 3 Dyson et al.(2017)\n",
    "# In (1200 persons) 600household, 12 households with one infected, 0  with 2 infected , all are zero infected is rest = \n",
    "from scipy.integrate import solve_ivp\n",
    "import numpy as np\n",
    "import matplotlib.pyplot as plt\n",
    "def odes(t, P):\n",
    "    #constants\n",
    "    # these values are taken from page 3 dyson et.al \n",
    "    alpha = 0.4\n",
    "    beta = 0.2\n",
    "    gamma = 0.4\n",
    "    # assign each ODE to a vector element\n",
    "    P0 = P[0]\n",
    "    P1 = P[1]\n",
    "    P2 = P[2]\n",
    "    TI2 = P[3] # making expection rate as 4th vector with TI2 \n",
    "    # define each ODE\n",
    "    dP0dt = -alpha*(P1+2*P2)*P0 + gamma * P1\n",
    "    dP1dt = alpha*(P1+2*P2)*P0 - ((alpha/2)*(P1+2*P2)+beta+gamma)*P1 + 2 * gamma * P2\n",
    "    dP2dt = ((alpha/2)*(P1+2*P2)+beta)*P1 - 2 * gamma * P2\n",
    "    dTI2dt = dP1dt + 2 * dP2dt\n",
    "    #dexpIdt = alpha*(P1+2*P2)*P0+((alpha/2)*(P1+2*P2)+beta-gamma)*P1 - 2*gamma*P2\n",
    "    return np.array([dP0dt,dP1dt,dP2dt,dTI2dt])\n",
    "t_span = np.array([0,100])\n",
    "times = np.linspace(t_span[0],t_span[1],101)\n",
    "#intial conditions\n",
    "Pi = np.array([0.98,0.02,0,0.003919999999999998])\n",
    "\n",
    "\n",
    "sol = solve_ivp(odes,t_span,Pi,t_eval=times)\n",
    "print(sol)\n",
    "t = sol.t\n",
    "P0 = sol.y[0]# y not P\n",
    "P1 = sol.y[1]\n",
    "P2 = sol.y[2]\n",
    "TI2 = sol.y[3]\n",
    "\n",
    "plt.rc(\"font\",size=12)\n",
    "plt.figure()\n",
    "plt.text(1,2,'alpha = 0.4,beta = 0.2,gamma = 0.4', fontsize=12 )\n",
    "plt.semilogy(t,P0,':', label = 'P0')\n",
    "plt.semilogy(t,P1,'-', label = 'P1')\n",
    "plt.semilogy(t,P2,'--', label = 'P2')\n",
    "#plt.semilogy(t,TI2,'.', label = 'TI2')\n",
    "plt.xlabel(\"time\")\n",
    "plt.ylabel(\"Probability of Household state\")\n",
    "plt.legend()\n",
    "plt.savefig(\"033_a1.eps\")\n",
    "\n",
    "#plt.show()\n",
    "\n",
    "output_timeline033_a1 = open(\"output_timeline033_a1.txt\",\"w\")\n",
    "\n",
    "for i in range(len(t)):\n",
    "    write_in = f\"time: {t[i]}, P0: {P0[i]}, P1: {P1[i]}, P2: {P2[i]}, TI2: {TI2[i]}\\n\"\n",
    "    output_timeline033_a1.write(write_in)\n",
    "    #print(f\"time: {t[i]}, P0: {P0[i]}, P1: {P1[i]}, P2: {P2[i]}, TI2: {TI2[i]}\")\n",
    "\n",
    "output_timeline033_a1.close()"
   ]
  },
  {
   "cell_type": "code",
   "execution_count": 23,
   "metadata": {},
   "outputs": [
    {
     "name": "stdout",
     "output_type": "stream",
     "text": [
      "0.02\n",
      "0.98\n",
      "0.0029820000000000003\n",
      "-0.007062000000000002\n",
      "0.00408\n",
      "0.0010979999999999983\n",
      "0.0029820000000000003,-0.007062000000000002,0.00408,0.0010979999999999983\n",
      "0.98,0.02,0,0.0010979999999999983\n"
     ]
    }
   ],
   "source": [
    "alpha = 0.4\n",
    "gamma = 0.5411\n",
    "beta = 0.2\n",
    "\n",
    "P1 = 12/600\n",
    "P2 = 0\n",
    "P0 = 1-P1-P2\n",
    "dP0dt = -alpha * ( P1 + 2 * P2 ) * P0 + gamma * P1 \n",
    "dP1dt = alpha*(P1+2*P2)*P0 - ( ( alpha / 2 ) * ( P1 + 2 * P2 ) + beta + gamma ) * P1 + 2 * gamma * P2\n",
    "dP2dt = ( ( alpha / 2 ) * ( P1 + 2 * P2 ) + beta ) * P1 - 2 * gamma * P2\n",
    "TI2 = dP1dt + 2 * dP2dt\n",
    "#dTI2dt = alpha*(P1+2*P2)*P0+((alpha/2)*(P1+2*P2)+beta-gamma)*P1 - 2*gamma*P2\n",
    "print(P1)\n",
    "print(P0)\n",
    "print(dP0dt)\n",
    "print(dP1dt)\n",
    "print(dP2dt)\n",
    "print(TI2)\n",
    "print(f'{dP0dt},{dP1dt},{dP2dt},{TI2}')\n",
    "print(f'{P0},{P1},{P2},{TI2}')"
   ]
  },
  {
   "cell_type": "code",
   "execution_count": 29,
   "metadata": {},
   "outputs": [
    {
     "name": "stdout",
     "output_type": "stream",
     "text": [
      "  message: The solver successfully reached the end of the integration interval.\n",
      "  success: True\n",
      "   status: 0\n",
      "        t: [ 0.000e+00  1.000e+00 ...  2.590e+02  2.600e+02]\n",
      "        y: [[ 9.800e-01  9.816e-01 ...  9.822e-01  9.822e-01]\n",
      "            [ 2.000e-02  1.625e-02 ...  1.499e-02  1.499e-02]\n",
      "            [ 0.000e+00  2.167e-03 ...  2.823e-03  2.826e-03]\n",
      "            [ 1.098e-03  1.681e-03 ...  1.737e-03  1.738e-03]]\n",
      "      sol: None\n",
      " t_events: None\n",
      " y_events: None\n",
      "     nfev: 812\n",
      "     njev: 0\n",
      "      nlu: 0\n"
     ]
    },
    {
     "name": "stderr",
     "output_type": "stream",
     "text": [
      "The PostScript backend does not support transparency; partially transparent artists will be rendered opaque.\n"
     ]
    },
    {
     "data": {
      "image/png": "[encoded data removed]",
      "text/plain": [
       "<Figure size 432x288 with 1 Axes>"
      ]
     },
     "metadata": {
      "needs_background": "light"
     },
     "output_type": "display_data"
    }
   ],
   "source": [
    "from scipy.integrate import solve_ivp\n",
    "import numpy as np\n",
    "import matplotlib.pyplot as plt\n",
    "def odes(t, P):\n",
    "    #constants\n",
    "    # these values are taken from page 3 dyson et.al \n",
    "    alpha = 0.4\n",
    "    beta = 0.2\n",
    "    gamma = 0.5411\n",
    "    # assign each ODE to a vector element\n",
    "    P0 = P[0]\n",
    "    P1 = P[1]\n",
    "    P2 = P[2]\n",
    "    TI2 = P[3] # making expection rate as 4th vector with TI2 \n",
    "    # define each ODE\n",
    "    dP0dt = -alpha*(P1+2*P2)*P0 + gamma * P1\n",
    "    dP1dt = alpha*(P1+2*P2)*P0 - (alpha/2*(P1+2*P2)+beta+gamma)*P1 + 2 * gamma * P2\n",
    "    dP2dt = (alpha/2*(P1+2*P2)+beta)*P1 - 2 * gamma * P2\n",
    "    dTI2dt = dP1dt + 2 * dP2dt\n",
    "    #dexpIdt = alpha*(P1+2*P2)*P0+((alpha/2)*(P1+2*P2)+beta-gamma)*P1 - 2*gamma*P2\n",
    "    return np.array([dP0dt,dP1dt,dP2dt,dTI2dt])\n",
    "t_span = np.array([0,260])\n",
    "times = np.linspace(t_span[0],t_span[1],261)\n",
    "#intial conditions\n",
    "Pi = np.array([0.98,0.02,0,0.0010979999999999983])\n",
    "\n",
    "sol = solve_ivp(odes,t_span,Pi,t_eval=times)\n",
    "print(sol)\n",
    "t = sol.t\n",
    "P0 = sol.y[0]# y not P\n",
    "P1 = sol.y[1]\n",
    "P2 = sol.y[2]\n",
    "TI2 = sol.y[3]\n",
    "\n",
    "plt.rc(\"font\",size=12)\n",
    "plt.figure()\n",
    "plt.text(1,2,'alpha = 0.4,beta = 0.2,gamma = 0.5411', fontsize=12 )\n",
    "plt.semilogy(t,P0,':', label = 'P0')\n",
    "plt.semilogy(t,P1,'-', label = 'P1')\n",
    "plt.semilogy(t,P2,'--', label = 'P2')\n",
    "#plt.semilogy(t,TI2,'.', label = 'TI2')\n",
    "plt.xlabel(\"time\")\n",
    "plt.ylabel(\"Probability of Household state\")\n",
    "plt.legend()\n",
    "plt.savefig(\"033_a2_5411.eps\")\n",
    "\n",
    "#plt.show()\n",
    "output_timeline033_a2_5411 = open(\"output_timeline033_a2_5411.txt\",\"w\")\n",
    "\n",
    "for i in range(len(t)):\n",
    "    write_in = f\"time: {t[i]}, P0: {P0[i]}, P1: {P1[i]}, P2: {P2[i]}, TI2: {TI2[i]}\\n\"\n",
    "    output_timeline033_a2_5411.write(write_in)\n",
    "    #print(f\"time: {t[i]}, P0: {P0[i]}, P1: {P1[i]}, P2: {P2[i]}, TI2: {TI2[i]}\")\n",
    "\n",
    "output_timeline033_a2_5411.close()"
   ]
  },
  {
   "cell_type": "code",
   "execution_count": 1,
   "metadata": {},
   "outputs": [
    {
     "name": "stdout",
     "output_type": "stream",
     "text": [
      "0.02\n",
      "0.98\n",
      "0.0021600000000000005\n",
      "-0.006239999999999999\n",
      "0.00408\n",
      "0.0019200000000000016\n",
      "0.0021600000000000005,-0.006239999999999999,0.00408,0.0019200000000000016\n",
      "0.98,0.02,0,0.0019200000000000016\n"
     ]
    }
   ],
   "source": [
    "alpha = 0.4\n",
    "gamma = 0.5\n",
    "beta = 0.2\n",
    "\n",
    "P1 = 12/600\n",
    "P2 = 0\n",
    "P0 = 1-P1-P2\n",
    "dP0dt = -alpha * ( P1 + 2 * P2 ) * P0 + gamma * P1 \n",
    "dP1dt = alpha*(P1+2*P2)*P0 - ( ( alpha / 2 ) * ( P1 + 2 * P2 ) + beta + gamma ) * P1 + 2 * gamma * P2\n",
    "dP2dt = ( ( alpha / 2 ) * ( P1 + 2 * P2 ) + beta ) * P1 - 2 * gamma * P2\n",
    "TI2 = dP1dt + 2 * dP2dt\n",
    "#dTI2dt = alpha*(P1+2*P2)*P0+((alpha/2)*(P1+2*P2)+beta-gamma)*P1 - 2*gamma*P2\n",
    "print(P1)\n",
    "print(P0)\n",
    "print(dP0dt)\n",
    "print(dP1dt)\n",
    "print(dP2dt)\n",
    "print(TI2)\n",
    "print(f'{dP0dt},{dP1dt},{dP2dt},{TI2}')\n",
    "print(f'{P0},{P1},{P2},{TI2}')"
   ]
  },
  {
   "cell_type": "code",
   "execution_count": 2,
   "metadata": {},
   "outputs": [
    {
     "name": "stdout",
     "output_type": "stream",
     "text": [
      "  message: The solver successfully reached the end of the integration interval.\n",
      "  success: True\n",
      "   status: 0\n",
      "        t: [ 0.000e+00  1.000e+00 ...  2.590e+02  2.600e+02]\n",
      "        y: [[ 9.800e-01  9.809e-01 ...  8.493e-01  8.493e-01]\n",
      "            [ 2.000e-02  1.685e-02 ...  1.219e-01  1.219e-01]\n",
      "            [ 0.000e+00  2.294e-03 ...  2.875e-02  2.876e-02]\n",
      "            [ 1.920e-03  3.358e-03 ...  1.614e-01  1.614e-01]]\n",
      "      sol: None\n",
      " t_events: None\n",
      " y_events: None\n",
      "     nfev: 794\n",
      "     njev: 0\n",
      "      nlu: 0\n"
     ]
    },
    {
     "name": "stderr",
     "output_type": "stream",
     "text": [
      "The PostScript backend does not support transparency; partially transparent artists will be rendered opaque.\n"
     ]
    },
    {
     "data": {
      "image/png": "[encoded data removed]",
      "text/plain": [
       "<Figure size 432x288 with 1 Axes>"
      ]
     },
     "metadata": {
      "needs_background": "light"
     },
     "output_type": "display_data"
    }
   ],
   "source": [
    "from scipy.integrate import solve_ivp\n",
    "import numpy as np\n",
    "import matplotlib.pyplot as plt\n",
    "def odes(t, P):\n",
    "    #constants\n",
    "    # these values are taken from page 3 dyson et.al \n",
    "    alpha = 0.4\n",
    "    beta = 0.2\n",
    "    gamma = 0.5\n",
    "    # assign each ODE to a vector element\n",
    "    P0 = P[0]\n",
    "    P1 = P[1]\n",
    "    P2 = P[2]\n",
    "    TI2 = P[3] # making expection rate as 4th vector with TI2 \n",
    "    # define each ODE\n",
    "    dP0dt = -alpha*(P1+2*P2)*P0 + gamma * P1\n",
    "    dP1dt = alpha*(P1+2*P2)*P0 - (alpha/2*(P1+2*P2)+beta+gamma)*P1 + 2 * gamma * P2\n",
    "    dP2dt = (alpha/2*(P1+2*P2)+beta)*P1 - 2 * gamma * P2\n",
    "    dTI2dt = dP1dt + 2 * dP2dt\n",
    "    #dexpIdt = alpha*(P1+2*P2)*P0+((alpha/2)*(P1+2*P2)+beta-gamma)*P1 - 2*gamma*P2\n",
    "    return np.array([dP0dt,dP1dt,dP2dt,dTI2dt])\n",
    "t_span = np.array([0,260])\n",
    "times = np.linspace(t_span[0],t_span[1],261)\n",
    "#intial conditions\n",
    "Pi = np.array([0.98,0.02,0,0.0019200000000000016])\n",
    "\n",
    "sol = solve_ivp(odes,t_span,Pi,t_eval=times)\n",
    "print(sol)\n",
    "t = sol.t\n",
    "P0 = sol.y[0]# y not P\n",
    "P1 = sol.y[1]\n",
    "P2 = sol.y[2]\n",
    "TI2 = sol.y[3]\n",
    "\n",
    "plt.rc(\"font\",size=12)\n",
    "plt.figure()\n",
    "plt.text(1,2,'alpha = 0.4,beta = 0.2,gamma = 0.5411', fontsize=12 )\n",
    "plt.semilogy(t,P0,':', label = 'P0')\n",
    "plt.semilogy(t,P1,'-', label = 'P1')\n",
    "plt.semilogy(t,P2,'--', label = 'P2')\n",
    "#plt.semilogy(t,TI2,'.', label = 'TI2')\n",
    "plt.xlabel(\"time\")\n",
    "plt.ylabel(\"Probability of Household state\")\n",
    "plt.legend()\n",
    "plt.savefig(\"033_a2_5.eps\")\n",
    "\n",
    "#plt.show()\n",
    "output_timeline033_a2_5 = open(\"output_timeline033_a2_5.txt\",\"w\")\n",
    "\n",
    "for i in range(len(t)):\n",
    "    write_in = f\"time: {t[i]}, P0: {P0[i]}, P1: {P1[i]}, P2: {P2[i]}, TI2: {TI2[i]}\\n\"\n",
    "    output_timeline033_a2_5.write(write_in)\n",
    "    #print(f\"time: {t[i]}, P0: {P0[i]}, P1: {P1[i]}, P2: {P2[i]}, TI2: {TI2[i]}\")\n",
    "\n",
    "output_timeline033_a2_5.close()"
   ]
  },
  {
   "cell_type": "code",
   "execution_count": 25,
   "metadata": {},
   "outputs": [
    {
     "name": "stdout",
     "output_type": "stream",
     "text": [
      "0.02\n",
      "0.98\n",
      "0.0041600000000000005\n",
      "-0.00824\n",
      "0.00408\n",
      "-8.000000000000021e-05\n",
      "0.0041600000000000005,-0.00824,0.00408,-8.000000000000021e-05\n",
      "0.98,0.02,0,-8.000000000000021e-05\n"
     ]
    }
   ],
   "source": [
    "alpha = 0.4\n",
    "gamma = 0.6\n",
    "beta = 0.2\n",
    "\n",
    "P1 = 12/600\n",
    "P2 = 0\n",
    "P0 = 1-P1-P2\n",
    "dP0dt = -alpha * ( P1 + 2 * P2 ) * P0 + gamma * P1 \n",
    "dP1dt = alpha*(P1+2*P2)*P0 - ( ( alpha / 2 ) * ( P1 + 2 * P2 ) + beta + gamma ) * P1 + 2 * gamma * P2\n",
    "dP2dt = ( ( alpha / 2 ) * ( P1 + 2 * P2 ) + beta ) * P1 - 2 * gamma * P2\n",
    "TI2 = dP1dt + 2 * dP2dt\n",
    "#dTI2dt = alpha*(P1+2*P2)*P0+((alpha/2)*(P1+2*P2)+beta-gamma)*P1 - 2*gamma*P2\n",
    "print(P1)\n",
    "print(P0)\n",
    "print(dP0dt)\n",
    "print(dP1dt)\n",
    "print(dP2dt)\n",
    "print(TI2)\n",
    "print(f'{dP0dt},{dP1dt},{dP2dt},{TI2}')\n",
    "print(f'{P0},{P1},{P2},{TI2}')"
   ]
  },
  {
   "cell_type": "code",
   "execution_count": 26,
   "metadata": {},
   "outputs": [
    {
     "name": "stderr",
     "output_type": "stream",
     "text": [
      "The PostScript backend does not support transparency; partially transparent artists will be rendered opaque.\n"
     ]
    },
    {
     "name": "stdout",
     "output_type": "stream",
     "text": [
      "  message: The solver successfully reached the end of the integration interval.\n",
      "  success: True\n",
      "   status: 0\n",
      "        t: [ 0.000e+00  1.000e+00 ...  1.740e+02  1.750e+02]\n",
      "        y: [[ 9.800e-01  9.826e-01 ...  1.000e+00  1.000e+00]\n",
      "            [ 2.000e-02  1.542e-02 ...  1.645e-06  2.310e-06]\n",
      "            [ 0.000e+00  1.998e-03 ...  3.580e-07 -8.944e-08]\n",
      "            [-8.000e-05 -6.644e-04 ... -2.008e-02 -2.008e-02]]\n",
      "      sol: None\n",
      " t_events: None\n",
      " y_events: None\n",
      "     nfev: 608\n",
      "     njev: 0\n",
      "      nlu: 0\n"
     ]
    },
    {
     "data": {
      "image/png": "[encoded data removed]",
      "text/plain": [
       "<Figure size 432x288 with 1 Axes>"
      ]
     },
     "metadata": {
      "needs_background": "light"
     },
     "output_type": "display_data"
    }
   ],
   "source": [
    "from scipy.integrate import solve_ivp\n",
    "import numpy as np\n",
    "import matplotlib.pyplot as plt\n",
    "def odes(t, P):\n",
    "    #constants\n",
    "    # these values are taken from page 3 dyson et.al \n",
    "    alpha = 0.4\n",
    "    beta = 0.2\n",
    "    gamma = 0.6\n",
    "    # assign each ODE to a vector element\n",
    "    P0 = P[0]\n",
    "    P1 = P[1]\n",
    "    P2 = P[2]\n",
    "    TI2 = P[3] # making expection rate as 4th vector with TI2 \n",
    "    # define each ODE\n",
    "    dP0dt = -alpha*(P1+2*P2)*P0 + gamma * P1\n",
    "    dP1dt = alpha*(P1+2*P2)*P0 - (alpha/2*(P1+2*P2)+beta+gamma)*P1 + 2 * gamma * P2\n",
    "    dP2dt = (alpha/2*(P1+2*P2)+beta)*P1 - 2 * gamma * P2\n",
    "    dTI2dt = dP1dt + 2 * dP2dt\n",
    "    #dexpIdt = alpha*(P1+2*P2)*P0+((alpha/2)*(P1+2*P2)+beta-gamma)*P1 - 2*gamma*P2\n",
    "    return np.array([dP0dt,dP1dt,dP2dt,dTI2dt])\n",
    "t_span = np.array([0,175])\n",
    "times = np.linspace(t_span[0],t_span[1],176)\n",
    "#intial conditions\n",
    "Pi = np.array([0.98,0.02,0,-8.000000000000021e-05])\n",
    "\n",
    "\n",
    "sol = solve_ivp(odes,t_span,Pi,t_eval=times)\n",
    "print(sol)\n",
    "t = sol.t\n",
    "P0 = sol.y[0]# y not P\n",
    "P1 = sol.y[1]\n",
    "P2 = sol.y[2]\n",
    "TI2 = sol.y[3]\n",
    "\n",
    "plt.rc(\"font\",size=12)\n",
    "plt.figure()\n",
    "plt.text(1,2,'alpha = 0.4,beta = 0.2,gamma = 0.6', fontsize=12 )\n",
    "plt.semilogy(t,P0,':', label = 'P0')\n",
    "plt.semilogy(t,P1,'-', label = 'P1')\n",
    "plt.semilogy(t,P2,'--', label = 'P2')\n",
    "#plt.semilogy(t,TI2,'.', label = 'TI2')\n",
    "plt.xlabel(\"time\")\n",
    "plt.ylabel(\"Probability of Household state\")\n",
    "plt.legend()\n",
    "plt.savefig(\"043_a3.eps\")\n",
    "\n",
    "#plt.show()\n",
    "\n",
    "output_timeline043_a3 = open(\"output_timeline043_a3.txt\",\"w\")\n",
    "\n",
    "for i in range(len(t)):\n",
    "    write_in = f\"time: {t[i]}, P0: {P0[i]}, P1: {P1[i]}, P2: {P2[i]}, TI2: {TI2[i]}\\n\"\n",
    "    output_timeline043_a3.write(write_in)\n",
    "    #print(f\"time: {t[i]}, P0: {P0[i]}, P1: {P1[i]}, P2: {P2[i]}, TI2: {TI2[i]}\")\n",
    "\n",
    "output_timeline043_a3.close()"
   ]
  },
  {
   "cell_type": "code",
   "execution_count": 27,
   "metadata": {},
   "outputs": [
    {
     "name": "stdout",
     "output_type": "stream",
     "text": [
      "0.02\n",
      "0.98\n",
      "0.00816\n",
      "-0.012240000000000001\n",
      "0.00408\n",
      "-0.00408\n",
      "0.00816,-0.012240000000000001,0.00408,-0.00408\n",
      "0.98,0.02,0,-0.00408\n"
     ]
    }
   ],
   "source": [
    "alpha = 0.4\n",
    "gamma = 0.8\n",
    "beta = 0.2\n",
    "\n",
    "P1 = 12/600\n",
    "P2 = 0\n",
    "P0 = 1-P1-P2\n",
    "dP0dt = -alpha * ( P1 + 2 * P2 ) * P0 + gamma * P1 \n",
    "dP1dt = alpha*(P1+2*P2)*P0 - ( ( alpha / 2 ) * ( P1 + 2 * P2 ) + beta + gamma ) * P1 + 2 * gamma * P2\n",
    "dP2dt = ( ( alpha / 2 ) * ( P1 + 2 * P2 ) + beta ) * P1 - 2 * gamma * P2\n",
    "TI2 = dP1dt + 2 * dP2dt\n",
    "#dTI2dt = alpha*(P1+2*P2)*P0+((alpha/2)*(P1+2*P2)+beta-gamma)*P1 - 2*gamma*P2\n",
    "print(P1)\n",
    "print(P0)\n",
    "print(dP0dt)\n",
    "print(dP1dt)\n",
    "print(dP2dt)\n",
    "print(TI2)\n",
    "print(f'{dP0dt},{dP1dt},{dP2dt},{TI2}')\n",
    "print(f'{P0},{P1},{P2},{TI2}')"
   ]
  },
  {
   "cell_type": "code",
   "execution_count": 28,
   "metadata": {},
   "outputs": [
    {
     "name": "stderr",
     "output_type": "stream",
     "text": [
      "The PostScript backend does not support transparency; partially transparent artists will be rendered opaque.\n"
     ]
    },
    {
     "name": "stdout",
     "output_type": "stream",
     "text": [
      "  message: The solver successfully reached the end of the integration interval.\n",
      "  success: True\n",
      "   status: 0\n",
      "        t: [ 0.000e+00  1.000e+00 ...  4.900e+01  5.000e+01]\n",
      "        y: [[ 9.800e-01  9.856e-01 ...  1.000e+00  1.000e+00]\n",
      "            [ 2.000e-02  1.289e-02 ...  6.199e-07  2.348e-07]\n",
      "            [ 0.000e+00  1.517e-03 ... -2.841e-07 -8.111e-08]\n",
      "            [-4.080e-03 -8.158e-03 ... -2.408e-02 -2.408e-02]]\n",
      "      sol: None\n",
      " t_events: None\n",
      " y_events: None\n",
      "     nfev: 224\n",
      "     njev: 0\n",
      "      nlu: 0\n"
     ]
    },
    {
     "data": {
      "image/png": "[encoded data removed]",
      "text/plain": [
       "<Figure size 432x288 with 1 Axes>"
      ]
     },
     "metadata": {
      "needs_background": "light"
     },
     "output_type": "display_data"
    }
   ],
   "source": [
    "from scipy.integrate import solve_ivp\n",
    "import numpy as np\n",
    "import matplotlib.pyplot as plt\n",
    "def odes(t, P):\n",
    "    #constants\n",
    "    # these values are taken from page 3 dyson et.al \n",
    "    alpha = 0.4\n",
    "    beta = 0.2\n",
    "    gamma = 0.8\n",
    "    # assign each ODE to a vector element\n",
    "    P0 = P[0]\n",
    "    P1 = P[1]\n",
    "    P2 = P[2]\n",
    "    TI2 = P[3] # making expection rate as 4th vector with TI2 \n",
    "    # define each ODE\n",
    "    dP0dt = -alpha*(P1+2*P2)*P0 + gamma * P1\n",
    "    dP1dt = alpha*(P1+2*P2)*P0 - (alpha/2*(P1+2*P2)+beta+gamma)*P1 + 2 * gamma * P2\n",
    "    dP2dt = (alpha/2*(P1+2*P2)+beta)*P1 - 2 * gamma * P2\n",
    "    dTI2dt = dP1dt + 2 * dP2dt\n",
    "    #dexpIdt = alpha*(P1+2*P2)*P0+((alpha/2)*(P1+2*P2)+beta-gamma)*P1 - 2*gamma*P2\n",
    "    return np.array([dP0dt,dP1dt,dP2dt,dTI2dt])\n",
    "t_span = np.array([0,50])\n",
    "times = np.linspace(t_span[0],t_span[1],51)\n",
    "#intial conditions\n",
    "Pi = np.array([0.98,0.02,0,-0.00408])\n",
    "\n",
    "\n",
    "sol = solve_ivp(odes,t_span,Pi,t_eval=times)\n",
    "print(sol)\n",
    "t = sol.t\n",
    "P0 = sol.y[0]# y not P\n",
    "P1 = sol.y[1]\n",
    "P2 = sol.y[2]\n",
    "TI2 = sol.y[3]\n",
    "\n",
    "plt.rc(\"font\",size=12)\n",
    "plt.figure()\n",
    "plt.text(1,2,'alpha = 0.4,beta = 0.2,gamma = 0.8', fontsize=12 )\n",
    "plt.semilogy(t,P0,':', label = 'P0')\n",
    "plt.semilogy(t,P1,'-', label = 'P1')\n",
    "plt.semilogy(t,P2,'--', label = 'P2')\n",
    "#plt.semilogy(t,TI2,'.', label = 'TI2')\n",
    "plt.xlabel(\"time\")\n",
    "plt.ylabel(\"Probability of Household state\")\n",
    "plt.legend()\n",
    "plt.savefig(\"043_a5.eps\")\n",
    "\n",
    "#plt.show()\n",
    "\n",
    "output_timeline043_a5 = open(\"output_timeline043_a5.txt\",\"w\")\n",
    "\n",
    "for i in range(len(t)):\n",
    "    write_in = f\"time: {t[i]}, P0: {P0[i]}, P1: {P1[i]}, P2: {P2[i]}, TI2: {TI2[i]}\\n\"\n",
    "    output_timeline043_a5.write(write_in)\n",
    "    #print(f\"time: {t[i]}, P0: {P0[i]}, P1: {P1[i]}, P2: {P2[i]}, TI2: {TI2[i]}\")\n",
    "\n",
    "output_timeline043_a5.close()"
   ]
  },
  {
   "cell_type": "code",
   "execution_count": 10,
   "metadata": {},
   "outputs": [
    {
     "name": "stdout",
     "output_type": "stream",
     "text": [
      "0.02\n",
      "0.98\n",
      "0.00816\n",
      "-0.018240000000000003\n",
      "0.01008\n",
      "0.001919999999999998\n",
      "0.00816,-0.018240000000000003,0.01008,0.001919999999999998\n",
      "0.98,0.02,0,0.001919999999999998\n"
     ]
    }
   ],
   "source": [
    "alpha = 0.4\n",
    "gamma = 0.8\n",
    "beta = 0.5\n",
    "\n",
    "P1 = 12/600\n",
    "P2 = 0\n",
    "P0 = 1-P1-P2\n",
    "dP0dt = -alpha * ( P1 + 2 * P2 ) * P0 + gamma * P1 \n",
    "dP1dt = alpha*(P1+2*P2)*P0 - ( ( alpha / 2 ) * ( P1 + 2 * P2 ) + beta + gamma ) * P1 + 2 * gamma * P2\n",
    "dP2dt = ( ( alpha / 2 ) * ( P1 + 2 * P2 ) + beta ) * P1 - 2 * gamma * P2\n",
    "TI2 = dP1dt + 2 * dP2dt\n",
    "#dTI2dt = alpha*(P1+2*P2)*P0+((alpha/2)*(P1+2*P2)+beta-gamma)*P1 - 2*gamma*P2\n",
    "print(P1)\n",
    "print(P0)\n",
    "print(dP0dt)\n",
    "print(dP1dt)\n",
    "print(dP2dt)\n",
    "print(TI2)\n",
    "print(f'{dP0dt},{dP1dt},{dP2dt},{TI2}')\n",
    "print(f'{P0},{P1},{P2},{TI2}')"
   ]
  },
  {
   "cell_type": "code",
   "execution_count": 13,
   "metadata": {},
   "outputs": [
    {
     "name": "stdout",
     "output_type": "stream",
     "text": [
      "  message: The solver successfully reached the end of the integration interval.\n",
      "  success: True\n",
      "   status: 0\n",
      "        t: [ 0.000e+00  1.000e+00 ...  4.900e+01  5.000e+01]\n",
      "        y: [[ 9.800e-01  9.810e-01 ...  8.177e-01  8.151e-01]\n",
      "            [ 2.000e-02  1.436e-02 ...  1.258e-01  1.274e-01]\n",
      "            [ 0.000e+00  4.600e-03 ...  5.650e-02  5.747e-02]\n",
      "            [-8.000e-05  3.486e-03 ...  2.187e-01  2.223e-01]]\n",
      "      sol: None\n",
      " t_events: None\n",
      " y_events: None\n",
      "     nfev: 242\n",
      "     njev: 0\n",
      "      nlu: 0\n"
     ]
    },
    {
     "name": "stderr",
     "output_type": "stream",
     "text": [
      "The PostScript backend does not support transparency; partially transparent artists will be rendered opaque.\n"
     ]
    },
    {
     "data": {
      "image/png": "[encoded data removed]",
      "text/plain": [
       "<Figure size 432x288 with 1 Axes>"
      ]
     },
     "metadata": {
      "needs_background": "light"
     },
     "output_type": "display_data"
    }
   ],
   "source": [
    "# assumption that outside infection rate is smaller but inside is higher\n",
    "\n",
    "from scipy.integrate import solve_ivp\n",
    "import numpy as np\n",
    "import matplotlib.pyplot as plt\n",
    "def odes(t, P):\n",
    "    #constants\n",
    "    # these values are taken from page 3 dyson et.al \n",
    "    alpha = 0.4\n",
    "    beta = 0.5\n",
    "    gamma = 0.6\n",
    "    # assign each ODE to a vector element\n",
    "    P0 = P[0]\n",
    "    P1 = P[1]\n",
    "    P2 = P[2]\n",
    "    TI2 = P[3] # making expection rate as 4th vector with TI2 \n",
    "    # define each ODE\n",
    "    dP0dt = -alpha*(P1+2*P2)*P0 + gamma * P1\n",
    "    dP1dt = alpha*(P1+2*P2)*P0 - (alpha/2*(P1+2*P2)+beta+gamma)*P1 + 2 * gamma * P2\n",
    "    dP2dt = (alpha/2*(P1+2*P2)+beta)*P1 - 2 * gamma * P2\n",
    "    dTI2dt = dP1dt + 2 * dP2dt\n",
    "    #dexpIdt = alpha*(P1+2*P2)*P0+((alpha/2)*(P1+2*P2)+beta-gamma)*P1 - 2*gamma*P2\n",
    "    return np.array([dP0dt,dP1dt,dP2dt,dTI2dt])\n",
    "t_span = np.array([0,50])\n",
    "times = np.linspace(t_span[0],t_span[1],51)\n",
    "#intial conditions\n",
    "Pi = np.array([0.98,0.02,0,-7.999999999999674e-05])\n",
    "\n",
    "\n",
    "sol = solve_ivp(odes,t_span,Pi,t_eval=times)\n",
    "print(sol)\n",
    "t = sol.t\n",
    "P0 = sol.y[0]# y not P\n",
    "P1 = sol.y[1]\n",
    "P2 = sol.y[2]\n",
    "TI2 = sol.y[3]\n",
    "\n",
    "plt.rc(\"font\",size=12)\n",
    "plt.figure()\n",
    "plt.text(1,2,'alpha = 0.4,beta = 0.5,gamma = 0.6', fontsize=12 )\n",
    "plt.semilogy(t,P0,':', label = 'P0')\n",
    "plt.semilogy(t,P1,'-', label = 'P1')\n",
    "plt.semilogy(t,P2,'--', label = 'P2')\n",
    "#plt.semilogy(t,TI2,'.', label = 'TI2')\n",
    "plt.xlabel(\"time\")\n",
    "plt.ylabel(\"Probability of Household state\")\n",
    "plt.legend()\n",
    "plt.savefig(\"b5g6.eps\")\n",
    "\n",
    "#plt.show()\n",
    "\n",
    "output_timelineb5g6= open(\"output_timelineb5g6.txt\",\"w\")\n",
    "\n",
    "for i in range(len(t)):\n",
    "    write_in = f\"time: {t[i]}, P0: {P0[i]}, P1: {P1[i]}, P2: {P2[i]}, TI2: {TI2[i]}\\n\"\n",
    "    output_timelineb5g6.write(write_in)\n",
    "    #print(f\"time: {t[i]}, P0: {P0[i]}, P1: {P1[i]}, P2: {P2[i]}, TI2: {TI2[i]}\")\n",
    "\n",
    "output_timelineb5g6.close()"
   ]
  }
 ],
 "metadata": {
  "kernelspec": {
   "display_name": "SageMath 9.2",
   "language": "sage",
   "name": "sagemath"
  },
  "language_info": {
   "codemirror_mode": {
    "name": "ipython",
    "version": 3
   },
   "file_extension": ".py",
   "mimetype": "text/x-python",
   "name": "python",
   "nbconvert_exporter": "python",
   "pygments_lexer": "ipython3",
   "version": "3.9.7"
  },
  "orig_nbformat": 4,
  "vscode": {
   "interpreter": {
    "hash": "31f2aee4e71d21fbe5cf8b01ff0e069b9275f58929596ceb00d14d90e3e16cd6"
   }
  }
 },
 "nbformat": 4,
 "nbformat_minor": 2
}

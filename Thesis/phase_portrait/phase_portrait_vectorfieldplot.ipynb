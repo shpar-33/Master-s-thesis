{
 "cells": [
  {
   "cell_type": "code",
   "execution_count": 1,
   "metadata": {},
   "outputs": [],
   "source": [
    "# fifthcase is for reducing plane with p0,p1,p2\n",
    "\n",
    "def fifthCase(a,b,g,fname):\n",
    "    #t = var('t')\n",
    "    P0 = var('P0')\n",
    "    P1 = var('P1') \n",
    "    #p2 = var('p2') \n",
    "\n",
    "    f0 = -a*(P1+2*(1-P0-P1))*P0 + g * P1\n",
    "    f1 = a*(P1+2*(1-P0-P1))*P0 - ((a/2)*(P1+2*(1-P0-P1))+b+g)*P1 + 2 * g * (1-P0-P1)\n",
    "    #f2 = ((a/2)*(p1+2*(1-p0-p1))+b)*p1 - 2 * g * (1-p0-p1)\n",
    "    DE=[f0,f1]\n",
    "\n",
    "\n",
    "    def p():\n",
    "        v = vector(DE)\n",
    "        return v/v.norm()\n",
    "    #print(solve([f0==0, f1==0], P0,P1))\n",
    "\n",
    "    V = plot_vector_field(p(), (P0, -0.1, 1.1), (P1, -0.1, 1.1))\n",
    "    filename = \"test\"+fname+'.eps'\n",
    "    \n",
    "    V.axes_labels(['Probability of household state P0', 'Probability of household state P1'])\n",
    "    \n",
    "    #V.show(title=f'{fname}', frame=True)\n",
    "    V.save('selected/'+filename)\n",
    "    \n",
    "a_list = [0.2,0.3,0.4,0.5,0.6,0.7,0.8,0.0]\n",
    "b_list = [0.2,0.3,0.4,0.5,0.6,0.7,0.8,0.0]\n",
    "g_list = [0.2,0.3,0.4,0.5,0.6,0.7,0.8,0.0]\n",
    "\n",
    "for i in a_list:\n",
    "    fifthCase(i,0.2,0.2,'alpha_'+str(i))\n",
    "\n",
    "for i in b_list:\n",
    "    fifthCase(0.4,i,0.2,'beta_'+str(i))\n",
    "\n",
    "for i in g_list:\n",
    "    fifthCase(0.4,0.2,i,'gamma_'+str(i))"
   ]
  }
 ],
 "metadata": {
  "kernelspec": {
   "display_name": "Python 3",
   "language": "python",
   "name": "python3"
  },
  "language_info": {
   "codemirror_mode": {
    "name": "ipython",
    "version": 3
   },
   "file_extension": ".py",
   "mimetype": "text/x-python",
   "name": "python",
   "nbconvert_exporter": "python",
   "pygments_lexer": "ipython3",
   "version": "3.9.7 (default, Jun 22 2022, 20:11:26) \n[GCC 11.2.0]"
  },
  "orig_nbformat": 4,
  "vscode": {
   "interpreter": {
    "hash": "916dbcbb3f70747c44a77c7bcd40155683ae19c65e1c03b4aa3499c5328201f1"
   }
  }
 },
 "nbformat": 4,
 "nbformat_minor": 2
}
